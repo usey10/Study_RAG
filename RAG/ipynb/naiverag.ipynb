{
 "cells": [
  {
   "cell_type": "code",
   "execution_count": null,
   "metadata": {},
   "outputs": [],
   "source": [
    "#### 전체 계획 다시 잡기\n",
    "\n",
    "파싱 -> 청킹 진행\n",
    "벡터스토어 + 임베딩 + 리트리버 생성\n",
    "생성기(+LLM) 생성\n",
    "langgraph 연결\n",
    "query expension 만들기\n",
    "reranker 만들기\n",
    "augmenter 만들기\n",
    "filter 만들기\n",
    "promptmaker 만들기 (?)"
   ]
  },
  {
   "cell_type": "code",
   "execution_count": null,
   "metadata": {},
   "outputs": [],
   "source": [
    "# ingestion.py\n",
    "\n",
    "import getpass\n",
    "import os\n",
    "from langchain_openai import OpenAIEmbeddings\n",
    "from pinecone import Pinecone\n",
    "from langchain_pinecone import PineconeVectorStore\n",
    "\n",
    "if not os.environ.get(\"OPENAI_API_KEY\"):\n",
    "  os.environ[\"OPENAI_API_KEY\"] = getpass.getpass(\"Enter API key for OpenAI: \")\n",
    "\n",
    "pinecone_api = os.environ[\"PINECONE_API_KEY\"]\n",
    "\n",
    "# vectorstore load\n",
    "pc = Pinecone(api_key=pinecone_api)\n",
    "\n",
    "index_name = \"ragtest\"\n",
    "index = pc.Index(index_name)\n",
    "\n",
    "embeddings = OpenAIEmbeddings(model=\"text-embedding-3-small\")\n",
    "\n",
    "vector_store = PineconeVectorStore(embedding=embeddings, index=index)\n",
    "\n",
    "retriever = vector_store.as_retriever(\n",
    "  search_type=\"similarity\", search_kwargs={\"k\": 5},\n",
    ")"
   ]
  },
  {
   "cell_type": "code",
   "execution_count": 3,
   "metadata": {},
   "outputs": [],
   "source": [
    "from typing import Annotated, TypedDict\n",
    "from langgraph.graph.message import add_messages\n",
    "\n",
    "# GraphState 상태 정의\n",
    "class GraphState(TypedDict):\n",
    "    question: Annotated[str, \"Question\"]\n",
    "    context: Annotated[str, \"Context\"]\n",
    "    answer: Annotated[str, \"Answer\"]\n",
    "    message: Annotated[list, add_messages]"
   ]
  },
  {
   "cell_type": "code",
   "execution_count": 34,
   "metadata": {},
   "outputs": [],
   "source": [
    "# retrieve.py\n",
    "def retrieve_document(state: GraphState) -> GraphState:\n",
    "    print(\"---RETRIEVE---\")\n",
    "    questions = state[\"question\"]\n",
    "    documents = retriever.invoke(questions)\n",
    "    print(documents)\n",
    "    return {\"context\": documents, \"question\": questions}"
   ]
  },
  {
   "cell_type": "code",
   "execution_count": 5,
   "metadata": {},
   "outputs": [
    {
     "name": "stderr",
     "output_type": "stream",
     "text": [
      "/Users/yoeun/Documents/github/FINAL Project/.venv/lib/python3.10/site-packages/langsmith/client.py:256: LangSmithMissingAPIKeyWarning: API key must be provided when using hosted LangSmith API\n",
      "  warnings.warn(\n"
     ]
    }
   ],
   "source": [
    "# generation.py\n",
    "# 답변 생성 체인\n",
    "from dotenv import load_dotenv\n",
    "from langchain import hub\n",
    "from langchain_core.output_parsers import StrOutputParser\n",
    "from langchain_openai import ChatOpenAI\n",
    "\n",
    "load_dotenv()\n",
    "\n",
    "llm = ChatOpenAI(temperature=0)\n",
    "prompt = hub.pull(\"rlm/rag-prompt\")\n",
    "\n",
    "generation_chain = prompt | llm | StrOutputParser()"
   ]
  },
  {
   "cell_type": "code",
   "execution_count": 40,
   "metadata": {},
   "outputs": [],
   "source": [
    "# generate.py\n",
    "# 답변 실행 역할\n",
    "\n",
    "from typing import Any, Dict\n",
    "\n",
    "# from generation import generation_chain\n",
    "# from state import GraphState\n",
    "\n",
    "def generate(state: GraphState) -> Dict[str, Any]:\n",
    "    print(\"---GENERATE---\")\n",
    "    question = state[\"question\"]\n",
    "    context = state[\"context\"]\n",
    "\n",
    "    generation = generation_chain.invoke({\"context\": context, \"question\": question})\n",
    "    # print(f\"question:{question}\")\n",
    "    # print(f\"context:{context}\")\n",
    "    # print(f\"generation:{generation}\")\n",
    "    message = [{\"role\": \"user\", \"content\": question},{\"role\":\"assistant\", \"content\":generation}]\n",
    "    return {\"context\": context, \"question\": question, \"answer\": generation, \"message\": message}"
   ]
  },
  {
   "cell_type": "code",
   "execution_count": 41,
   "metadata": {},
   "outputs": [],
   "source": [
    "# consts.py\n",
    "RETRIEVE = \"retrieve\"\n",
    "GRADE_DOCUMENTS = \"grade_documents\"\n",
    "GENERATE = \"generate\"\n",
    "WEBSEARCH = \"websearch\"\n",
    "\n",
    "# graph.py\n",
    "from dotenv import load_dotenv\n",
    "from langgraph.graph import END, StateGraph\n",
    "\n",
    "# from consts import RETRIEVE, GRADE_DOCUMENTS, GENERATE, WEBSEARCH\n",
    "\n",
    "# from nodes import generate, grade_documents, retrieve, web_search\n",
    "# from state import GraphState\n",
    "\n",
    "load_dotenv()\n",
    "\n",
    "# def decide_to_generate(state):\n",
    "#     print(\"--ASSESS GRADED DOCUMENTS---\")\n",
    "\n",
    "#     if state[\"web_search\"]:\n",
    "#         print(\n",
    "#             \"---DESISION: NOT ALL DOCUMENTS ARE NOT RELEVANT TO QUESTION, INCLUDE WEB SEARCH---\"\n",
    "#         )\n",
    "#         return WEBSEARCH\n",
    "#     else:\n",
    "#         print(\"---DECISION: GENERATE---\")\n",
    "#         return GENERATE\n",
    "\n",
    "workflow = StateGraph(GraphState)\n",
    "\n",
    "workflow.add_node(\"retrieve\", retrieve_document)\n",
    "workflow.add_node(\"generate\", generate)\n",
    "\n",
    "workflow.set_entry_point(\"retrieve\")\n",
    "\n",
    "workflow.add_edge(\"retrieve\", \"generate\")\n",
    "workflow.add_edge(\"generate\", END)\n",
    "\n",
    "app = workflow.compile()"
   ]
  },
  {
   "cell_type": "code",
   "execution_count": 42,
   "metadata": {},
   "outputs": [
    {
     "data": {
      "text/plain": [
       "b'\\x89PNG\\r\\n\\x1a\\n\\x00\\x00\\x00\\rIHDR\\x00\\x00\\x00n\\x00\\x00\\x01M\\x08\\x02\\x00\\x00\\x00nv\\xcd\\x80\\x00\\x00\\x00\\x01sRGB\\x00\\xae\\xce\\x1c\\xe9\\x00\\x00\\x1f\\x9dIDATx\\x9c\\xed\\x9dw\\\\T\\xc7\\xda\\xc7\\xe7l\\xdf=\\xdb\\x97]z\\x13\\xac\\x08\\x8aB\\xa2\\x06TlQD\\x05b\\x90\\x18{\\xbcIn\\xaco\\xae1D11y/\\xc4\\xe8M.Qb\\xc95\\xe0\\x8d%\\x1a\\x8d\\xbdk\\x125\\x88\\x02b\\xc3^A:la\\x97\\xed\\xf5\\xfdcy\\x89\\xd1e\\x0b\\xce\\xc2\\x1e9\\xdf?\\xfc\\xb8\\xe7\\xcc\\xcc>\\xfbc\\xce\\xcc\\x9c\\x99g\\xe6A,\\x16\\x0b\\xc0\\x81\\x01\\xa1\\xb3\\rxy\\xc0\\xa5\\x84\\x06.%4p)\\xa1\\x81K\\t\\r\\\\Jh\\x90\\xa0\\x94R\\xffD\\xabV\\x98\\xd4\\xcdF\\xa3\\xc1\\xa2\\xd3\\x98\\xa1\\x94\\xe9n\\xa8t\\x02\\x99B`\\xb0\\x89\\x0c\\x16Q\\x14H{\\xf1\\x02_H\\xca\\xfbW\\x9b\\x1f\\x95\\xa9\\x1e\\xdfP\\x05\\xf7a\\x98\\x0c\\x16\\x06\\x8b\\xc4\\xf7\\xa6\\x00\\x8c\\x8cS\\xcdFP[\\xa3Q+L\\x14:\\xa1\\xf2\\x8e:\\xa4/\\xda-\\x12\\xed\\xd6\\x97\\xd9\\xee\\x02\\x91\\xf6\\r\\xd1o\\x17+\\n\\x0fI\\x02{\\xd2Cz\\xa3\\xa1}Q2\\x15\\xdb\\r\\x85Fe*\\xbf\\xa1\\xaa~\\xa8\\xaey\\xa4\\x1d2\\xc1+\\xbc_{\\x04uYJ\\xb9\\xd8prk\\x1d\\xcf\\x9b2d\\x82\\x80\\xc1\\x82\\xd3>x\\x0er\\xb1\\xa1\\xf0\\x90\\xd8h\\xb0\\x8c\\x99\\xeeM\\xa5\\x13]\\xca\\xeb\\x9a\\x94\\x0f\\xaf+\\xcf\\x1f\\x14O|\\xcf\\x8f+\\xa4\\xb8n\\'fh\\xac\\xd2\\xee\\xfb\\xaef\\xfc\\\\_\\xff0\\xba\\xf3\\xb9\\\\\\x90\\xb2\\xfa\\x81\\xe6\\xda\\xb9\\xa6\\xc49\\xbe\\xed\\xb5\\x10c\\xec]W5l\\xb2P\\xe0Ku2\\xbd\\xb3R\\xde8//\\xbf\\xadJ\\x9a\\xeb\\xf7b\\xe6a\\x8c_\\xd6UE\\x0f\\xe7v\\x8bt\\xaa\\xe9t\\xaa\\xbb\\xa8}\\xac\\xb9s\\xa9\\xb9\\xab\\xe9\\x08\\x00xcA@\\xc1~\\xb1\\\\bp*\\xb5\\xc5\\x11:\\x8di\\xff\\xfa*\\x87\\xc9^V\\x0cz\\xd3\\xde\\xef\\x9c\\xfa\\xf9\\x8eke\\xc1~qxt\\xfbG[X\\x87D&\\x04\\x84\\xd3/\\x1e\\x958L\\xe9@\\xca\\xa6F}\\xf5CM\\xc4 \\x0e<\\xdb\\xb0G\\xec\\x18\\xfe\\xb5\\xb3Mz\\x9d\\x83\\xb78\\x07R^/\\x90\\x0fM\\xf1\\x82j\\x18&\\x19\\xf6\\xa6\\xf0\\xca\\xef2\\xfbi\\x1cI\\xf9\\x87<\\xa8\\x17\\x03\\xaaUm\\xa2T*\\xef\\xdc\\xb9\\xd3Y\\xd9\\xed\\x13\\xd8\\x9dq\\xf3\\x82\\xc2~\\x1a{R\\x96\\xdfR\\x05\\xf7b \\x04\\x04\\xb6a\\xb6IOO?p\\xe0@ge\\xb7\\x0f\\xca!\\xa1lRC\\xa5\\xd6N\\x1a{RV?\\xd4t\\xef\\xc0\\x0eG\\xaf\\xd7\\xb7/\\xa3uh\\xdc\\xee\\xecN\\xd2c \\xb3\\xf2\\x9e\\xdaN\\x02{R6<\\xd11\\xb9ny\\xcb\\xde\\xb2eKbbb\\\\\\\\\\xdc;\\xef\\xbcS\\\\\\\\\\x0c\\x00HJJ\\x92J\\xa5\\xbbw\\xef\\x8e\\x89\\x89IJJ\\xb2&;x\\xf0\\xe0\\xb4i\\xd3\\x06\\r\\x1a4b\\xc4\\x88\\xe5\\xcb\\x97\\xcbd-\\xad\\xd5W_}5f\\xcc\\x98s\\xe7\\xce\\xa5\\xa4\\xa4\\xc4\\xc4\\xc4\\x94\\x94\\x94\\xd8\\xcc\\x0e\\x17\\x94M\\x12W\\xdb\\xfbk\\xd9SJ\\xa50\\xa2l\\xf8R\\x16\\x17\\x17\\xe7\\xe6\\xe6\\x8e\\x1d;v\\xc8\\x90!\\x85\\x85\\x85j\\xb5\\x1a\\x00\\xb0z\\xf5\\xea\\xf9\\xf3\\xe7\\x0f\\x1c8\\xf0\\xed\\xb7\\xdf\\xa6PZ^\\xf0\\xcb\\xca\\xcaBBB\\x12\\x13\\x13\\xa5R\\xe9\\xce\\x9d;U*UNN\\x8e\\xf5\\x96R\\xa9\\\\\\xbf~}FF\\x86F\\xa3\\x89\\x8d\\x8d\\xb5\\x99\\x1d.(\\x9b\\xa4V\\x98\\xec$\\xb0+\\xa5\\xdc\\x88r\\xe0KYSS\\x03\\x00HKK\\x8b\\x8a\\x8aJLL\\xb4^\\xec\\xd3\\xa7\\x0f\\x89D\\xf2\\xf2\\xf2\\xea\\xdf\\xbf\\x7fk\\xcae\\xcb\\x96!HKKM\"\\x91\\xf2\\xf2\\xf2t:\\x1d\\x95J\\xb5>\\xce\\x99\\x99\\x99}\\xfb\\xf6\\xb5\\x93\\x1d.\\x0c6Q\\xa50\\xdaI`\\xef\\x01\\xa7\\xd0\\t\\x047\\xccC\\xc6\\xc5\\xc5\\xb1\\xd9\\xec\\x15+V\\x14\\x14\\x14\\xd8Oi0\\x18~\\xfc\\xf1\\xc7\\xf4\\xf4\\xf4\\xe1\\xc3\\x87\\xef\\xdf\\xbf\\xdfl6\\xb7>\\xe34\\x1a\\xadU\\xc7\\x8e\\x81H\\x02d\\x8a\\xbd\\x1e\\xd8\\x9eTD\"\\xa2\\xb2[\\xa5\\xdb\\x87\\x97\\x97W^^^pp\\xf0\\xe2\\xc5\\x8b\\xdfy\\xe7\\x9d\\x86\\x86\\x06\\x9b\\xc9,\\x16\\xcb\\xe2\\xc5\\x8b\\xf3\\xf2\\xf2&N\\x9c\\x98\\x9b\\x9bk\\xad\\xbffs\\xcb8\\x99\\xc1\\xe8\\xa0!Z+*\\xb9\\x89H\\xb6\\'\\x97\\xbd{(\\x9bd\\xbfJ\\xb7\\x9b\\x90\\x90\\x90\\xb5k\\xd7n\\xd8\\xb0\\xe1\\xc1\\x83\\x07+W\\xael\\xbd\\xfe\\xf44\\xd5\\xe5\\xcb\\x97\\x8b\\x8b\\x8b322\\xa6N\\x9d\\xda\\xb7o\\xdf\\xf0\\xf0p\\x87\\xc5\\xba\\xd5iG\\xa50\\xa1l{\\x93\\xc1\\xf6\\xa4\\xf4\\x0e\\xa6j\\x95\\xf0ke\\xeb\\xc0%666>>\\xbeu\\\\M\\xa7\\xd3\\xc5bqk\\x9a\\xa6\\xa6&\\x00@\\xaf^\\xbd\\x9e\\xfe\\xd8Z+\\x9f\\xe7\\x99\\xec\\xf0m\\xd6\\x98\\x84\\xfe\\xf6\\xe6.\\xed\\xf5*\\xa2@\\xda\\xfd\\xab\\xcanQ\\x90\\x87\\x967o\\xde\\xfc\\xf8\\xe3\\x8f\\xd3\\xd2\\xd2\\x18\\x0cFaaa\\x9f>}\\xac\\xd7\\xa3\\xa3\\xa3\\x8f\\x1f?\\xbee\\xcb\\x166\\x9b\\x1d\\x15\\x15\\x15\\x19\\x19I\\xa1PrssSRR\\xee\\xdf\\xbf\\x9f\\x9f\\x9f\\x0f\\x00x\\xf0\\xe0A@@\\x80\\xcdb\\x9f\\xc9\\xeeL-v\\x89\\xbb\\x97\\x94\\xaf\\x8c\\xe5\\xdbI`\\xafV\\x86F\\xa0\\x8fo\\xaa\\xe0\\x1a\\x04\\x00\\xa0P(\\xa1\\xa1\\xa1\\xf9\\xf9\\xf9\\xb9\\xb9\\xb9\\xd1\\xd1\\xd1+V\\xac\\xb0^_\\xb8paLL\\xcc\\xe6\\xcd\\x9b\\xf3\\xf3\\xf3+++E\"QVV\\xd6\\x9d;w\\x96.]ZTT\\xb4i\\xd3\\xa6\\xb8\\xb8\\xb8\\x9d;w\\xb6U\\xec3\\xd9\\xe1\\xda\\xac\\xd7\\x99\\x1b*\\xb5\\xfe\\xe1\\xf6\\xd6\\'\\x1c\\xcc\\xa2\\xff\\xfaS}\\x9fAl\\xdfP\\x17\\x968^J\\x1e]W\\xd6<\\xd2\\xc4%\\x0b\\xed\\xa4q0l\\xec\\xfd*\\xbb\\xf0\\x90\\xe4\\x8d\\x85\\xb6\\x9f)\\x00@NN\\xce\\xfe\\xfd\\xfbmd\\xec\\xdd\\xfb\\xf6\\xed\\xdb6\\xb3\\xe4\\xe7\\xe7\\x87\\x86\\x86\\xda\\xff\\xde\\x17\\xa4\\xa0\\xa0 33\\xd3\\xe6\\xad\\x80\\x80\\x80\\xaa\\xaa\\xaa\\xe7\\xafo\\xde\\xbc\\xd9N\\x9bp\\xfe\\x90d\\xc2\\xbb\\x0e\\x16\\xb5\\x1c\\xaf\\xed\\x1c\\xfeOM\\xc4\\x10Nh\\x04j\\xf3nSS\\x93\\xf5u\\xe5\\xd9r\\x916K\\x16\\x89D$\\x92{W}\\xb5Z\\xadT*\\xb5y\\xab-\\xc3\\x84B!\\x99L\\xb6\\x99\\xe5\\xe6Ey}\\xb9nD\\xba\\xc8\\xfe\\x97:\\x96RR\\xab+9)\\x1d;\\xb3\\xab,4>\\xcf\\xc1M\\xd5\\xa3\\xde\\xf6f0\\x1d\\xfc\\xf9\\x1d\\xbf\\xcd\\x08|\\xa9!}\\xd0S\\xdb\\xeb\\xe1\\xd9\\x86%\\x0el\\xac\\xee?\\x8c\\xe7PGgW\\x1c{\\xc5\\xb2\\xe9L\\xe2\\xf9Cn\\x1c\\xb5y&\\xa7w\\xd4\\x07\\xf5d89\\xf9\\xed\\x82K\\xc1\\xf5?\\x9a\\x9a\\x9b\\x8c\\xafM\\xe8*\\xeb\\x13\\xbf\\xee\\xac\\x0f\\xe9\\x8d\\x869\\xed?\\xe4\\xc2tET<\\x97B%\\x1c\\xf9\\xa1\\xb6\\xbd\\xb6a\\x06\\x93\\xd1\\xb2\\xe7\\xdb*Q\\x00\\xcdy\\x1d\\xdb\\xe3~\\xf5\\xa8LyfwCt\\x02/:\\x81\\xe7\\xba\\x91\\x18\\xa0\\xe8\\x98\\xe4Q\\x99j\\xf8\\x9bBWG\\xd3\\xedq\\n4\\x19\\xcd\\x17\\x8eH\\xef\\x94(\\xa2\\x87s\\x83\\xfb\\xa0^~\\xcez\\xd5x2\\xf5O\\xb4\\x95\\xf7\\xd4%\\'d\\x03G\\xf1bG\\xf3\\xda\\xb1\\xa2\\xd5N\\xffJ\\x00\\x80Fi\\xba^\\xd0\\xf4\\xe8\\xbaJ\\xaf5w\\x8ff\"\\x04\\x04\\xe5\\x10\\xd9|\\x8a\\xd9\\x8c\\r_U\\x04\\x01\\xcdR\\x83RnD\\x00\\xb8]\\xdc\\xcc\\xe4\\x92\\xc2\\xfb1\\xa3\\x86rHvg\\xd2\\xec\\x15\\xf8\\xe2\\x13S\\n\\xa9\\xa1\\xf6\\x91\\xb6YfP\\xc9M\\x08\\x014\\xcb \\xcf\\xcbUUU\\x91H$\\x1f\\x1f\\x1f\\xb8\\xc5\\xb2\\xb8$\\x0b\\x00L\\x0e\\x89\\xc5\\'\\xfa\\x873^|\\xe9\\x05\\xc2[\\x07\\x9bOf\\xf3m\\xbf\\'@!\\'g\\x97@ \\x18?=\\xda}_\\x01\\x05l;>{\\x14\\xb8\\x94\\xd0\\xc0\\x80\\x94l6\\x9bN\\xc7\\xc0,\\x1f\\x06\\xfc\\xf2\\x15\\nE[s6\\x1e\\x05\\x06j%\\x85Bq\\xf7\\xa4\\x1c\\x140 \\xa5^\\xaf7\\x1a\\xdd\\xb2\\xf0\\t\\x17\\x0cHI\\xa7\\xd3\\xdd\\xe4\\xbb\\x02\\x17\\x0cH\\xa9\\xd1h\\xdc\\xed\\xa5\\x06\\x05\\x0cH\\xc9\\xe5r;\\xde\\x17\\xa3\\x1d`\\xa09ojj\"\\x12]\\xdb#\\xd7)`\\xa0Vb\\x05\\x0cHI\\xa3\\xd1\\xf0q%\\x1c\\xb4Z\\xad\\xc1\\xe0\\xdc~\\xaeN\\x05\\x03RR\\xa9T\\xbcV\\xc2A\\xa7\\xd3\\xe1\\xb5\\xb2k\\x81\\x01)\\x99L&\\x8d\\x06\\xe1\\x98\\x10w\\x83\\x81q\\xa5R\\xa9\\xb4\\xba\\xf2{8\\x18\\xa8\\x95X\\x01\\x03R\\xb2\\xd9l\\x14\\xb5\\xedG\\xe7Q`\\xe0\\x01\\xc7\\xa7~\\xbb\\x1c\\x18\\x90\\x12\\x9f\\x19\\x82\\x06>3\\xd4\\xe5\\xc0\\x80\\x94\\xf8\\xe2-4\\xf0\\x1e\\xbc\\xcb\\x81\\x01)\\xf1uph\\xe0\\xeb\\xe0\\xd0`\\xb1X\\xf8\\xcc\\x10\\x1c\\x9a\\x9b\\x9bq\\x97\\x82\\xae\\x05\\x06\\xa4\\xc4\\x1d]\\xa0\\x81;\\xba@\\x03\\x9f\\xce\\x80\\x06>\\x9d\\x01\\r\\x0e\\x87\\x83\\xcf\\xa2\\xc3A.\\x97\\xe3o;p@Q\\x14\\x13+\\x8e\\x10v\\x93\\xb9\\x89\\x89\\x13\\'Z\\x8f#V\\xa9T\\x08\\x82\\xa0(j\\xb1X\\x10\\x049t\\xe8Pg\\x9bf\\x1b\\xcf}p\\xbc\\xbd\\xbdKKK[O\\x85S(\\x14\\x00\\x80\\x84\\x84\\x84\\xce\\xb6\\xabM<\\xf7\\x01\\x9f1c\\x06\\x8f\\xf7\\x97}\\xd2|>\\x7f\\xc6\\x8c\\x19\\x9dg\\x91\\x03<W\\xca\\xf8\\xf8\\xf8\\xb0\\xb0\\xb0\\xa7\\xafDDDDFFv\\x9eE\\x0e\\xf0\\\\)\\x01\\x00\\xd3\\xa7Og\\xb3\\xd9\\xd6\\xff\\xf3\\xf9\\xfc\\xd9\\xb3gw\\xb6E\\xf6\\xf0h)\\xe3\\xe3\\xe3{\\xf6\\xeci\\xed\\x18#\"\"\\xa2\\xa2\\xa2:\\xdb\"{x\\xb4\\x94\\x00\\x80\\xb7\\xdez\\x8b\\xc3\\xe1x~\\x95t\\xad\\x077\\x9b,M\\x8d\\x06\\xb9\\xc4\\xd0\\x91\\xc3\\xa7\\x00\\xfe\\xc0\\xc8\\xb0Q\\x0c\\x06\\x83I\\x08{t\\x03\\xfeY{mA \\x00\\x8e\\x17\\x99\\'raF\\xca\\xd9q\\xe5\\xedb\\xc5\\xcd\\x8b\\n\\xad\\xd2\\xe4\\x13J\\xb7\\x7fz\\xf0\\xcb\\x01\\x93K\\xaa\\xba\\xaffrI\\xfd\\x87q\\x9c\\x0c\\x12\\xe3\\x94\\x947/*\\x1e\\x95\\xa9\\x86N\\xf6!t\\xd4q\\xf3\\x1e\\x82\\xc9d\\xfeu{mt\\x02\\xb7[_\\xc7\\x93\\x00\\x8e\\xdb\\xca{\\x97\\x9b\\x1f^W\\rO\\xf3\\xedj:\\x02\\x00\\x88D\\xc2\\x98\\x19\\xfe\\xa5\\xa7d\\xd5\\x0f4\\x0e\\x13;\\x90\\xd2b\\xb1\\x94\\x9d\\x97\\x0f\\x99\\xe8\\xe0\\x90\\xbc\\x97\\x9b\\xc1\\x13D\\x97\\x1d\\xc5\\xe2p,\\xa5Fi\\x925\\x18\\\\\\x8d\\x1d\\xf7\\x92\\xc1\\x11R*n\\xa9\\x1d\\xb6\\x84\\x0e\\xa4TH\\x8dP\"ob\\x1d\\xbfnty\\xa3\\x83\\r/\\x0e\\xa4D\\x00\\xd04c`9\\xdf\\xdd(\\xe5F\\x87\\xe7ay\\xfa\\x10\\x1dC\\xe0RB\\x03\\x97\\x12\\x1a\\xb8\\x94\\xd0\\xc0\\xa5\\x84\\x06.%4p)\\xa1\\x81K\\t\\r\\\\Jh\\xe0RB\\x03\\x97\\x12\\x1a\\x9d/e]]mm]\\x8d\\xfd4G\\x8f\\x1dHN\\x1dU__\\xd7QF\\xb5\\x87N\\x96\\xb2\\xba\\xa6j\\xea\\xb4\\x89w\\xef\\xde\\xb2\\x9f\\x8cB\\xa1\\xa2(\\xd3-\\xf1\\xfb\\xe0\\xe1vG\\x17\\xab\\xa3O[wMF\\xa3\\xfdy@k\\xf6Q#\\xc7\\x8e\\x1a9\\xd6=\\x06B\\x03\\xfe\\xdf\\xf9\\xdb\\xb5_\\xa5N\\x1eSXxn\\xda\\x8c\\x94\\x84\\x911\\x97\\xaf\\x94\\x00\\x00j\\xebjV|\\xba$1)>9u\\xd4\\xd2\\x8f\\xe7\\xdf\\xb9{\\xcbzq\\xe6\\xec\\xc9\\x00\\x80\\xcf\\xbf\\xc8H\\x18\\x19\\xb3j\\xf5J\\x00\\xc0\\x99\\xb3\\xa7\\x13F\\xc6\\x14\\x14\\x9cY\\xb0\\xe8\\x9d\\xd1\\xaf\\x0f\\xca\\xdf\\xb2q\\xd5\\xea\\x95\\t#c\\x12F\\xc6\\xb4\\xee\\xde\\xb9r\\xf5\\xd2\\x07\\xf3g\\xbd>nH\\xfa\\xd4\\xa4\\xafV\\x7f.\\x91\\x88\\x01\\x00\\x19\\xcb\\x16\\xa5\\xa5\\'\\xb6\\xc6\\x81\\xd3h4\\x89I\\xf1\\x1b6\\xb6D#=pp\\xcf\\xdb\\xd3\\x93_\\x1f7d\\xe6\\xec\\xc9?n\\xdd\\xac\\xd3\\xe9\\xa0\\xffp\\xb7\\xd4J\\x95J\\xf9C\\xfe\\xfa\\xc5\\x8b2\\xb4Z\\xcd\\x80\\xe8X\\x89D\\xbc`\\xe1\\x1c\\x7f\\xff\\xc0\\xf9\\xf3\\x96 \\x08r\\xf2\\xe4\\x91E\\x8b\\xe7n\\\\\\xbf\\xd5\\xdf?p\\xf9\\xb2\\x7ffeg\\xce\\x9e\\xf5~t\\xff\\x18\\x1e\\xef\\xcf j\\xdf\\xae\\xfbj\\xee\\x9cysf\\xff=\\xc0?H\\xd6$5\\x9b\\xcd\\xa7N\\x1d\\xb5\\xde*\\xbd\\\\\\x9c\\xf1\\xc9\\xc2\\xd1\\xa3\\x12S\\x92\\xa74+\\xe4\\xbf\\xec\\xfd\\xe9\\xc3%\\xefo\\xda\\xb0-)1e\\xc5gK\\xae^+\\x1d\\x10\\x1d\\x0b\\x00((\\xf8]\\xa3\\xd1L\\x98\\xf0\\x06\\x00`\\xcb\\x7f\\xbf\\xdf\\xbdg[jJzpp\\xb7\\xca\\xca\\xf2]?\\xffXU\\xfddY\\xc6\\x17p\\x7f\\xb5[\\xa4\\xd4\\xeb\\xf5K>\\xcc\\xec\\xdd\\xbb%\\xfa\\xe7\\xd6m\\x9by\\\\\\xfe\\xd7k6X=NG\\x8fJ\\x9c6#\\xf9\\xf0\\xd1}\\x0b\\xe6-\\xe9\\xd1\\xbd\\x17\\x00 (($2\\xf2/\\x01VS\\x92\\xa7\\xbc\\xfezK\\x14`\\xa1P\\x14\\x12\\xdc\\xad\\xf5\\xd6\\xba\\xdc5\\x13\\x92R\\x17.Xj\\xfd\\x18\\x133h\\xe6\\xec\\xc9%\\x97.\\x0c\\x19<T \\xf0:u\\xea\\xa8U\\xcaS\\xa7\\x8f\\xc6\\x0c|5\\xc0?P,n\\xdc\\xbe#/sy\\xd6\\xb0\\xa1#\\xadY\\x04\\x02\\xe1\\xbfs\\xbe\\\\\\xba\\xe4S\\xb8\\x1e\\xb0n\\x91\\x92F\\xa3\\xb5\\xea\\x08\\x00(*:\\xdf\\xd0X\\x9f\\x98\\x14\\xdfz\\xc5`046\\xd8\\x8b\\x854`\\xc0+6\\xaf\\xd7\\xd5\\xd5VT<\\xae\\xae\\xae<|d\\xdf\\xd3\\xd7\\x1b\\x1a\\xea\\x89Db\\xe2\\xb8I{\\xf7\\xed\\\\\\xbc(C\\xa9l.\\xbd\\\\\\xfc\\xd9\\xa7\\xab\\x00\\x00\\xa5\\xa5EF\\xa31+;3+\\xbb%Z\\x99\\xb5u\\xd6\\xe9t\\x18\\x90\\x92N\\xff\\xcb\\x86\\x06\\xa9L2xp\\xfc\\xbbs\\x17<}\\x11E\\xed\\xad\\xd33\\xe8\\xb6\\xb7D\\xc8d\\x12\\x00\\xc0\\xcc\\x19\\xef\\x0e\\x8d\\x1f\\xf1\\xf4u>\\xdf\\x0b\\x00\\x908.y\\xdb\\xf6\\xbc\\xc2\\x0b\\xe7\\x1a\\x1a\\xeax<\\xfe\\x90\\xc1C\\x01\\x00\\x12\\xa9\\x18\\x00\\x90\\x9d\\x95#\\x12z\\xff\\xe5+`\\xef\\xba\\xe8\\x08WU\\x16\\x8b-\\x977\\x05\\x05\\x85\\xbcxQL&\\x0b\\x00\\xa0\\xd3im\\x96\\xe6\\xe3\\xe3\\x1b\\x1b;\\xf8\\xd4\\xe9\\xa3\\xf5\\xf5\\xb5\\xe3\\x13\\x93\\xad\\x95\\x8e\\xc5j\\xf1\\x85\\x83b\\x80\\x1d:b\\xa46`\\xc0+7n\\\\\\xbb{\\xef\\xcfX\\x84\\x1aM\\xcb\\n=\\x95J\\x03\\x00H\\xc4\\x8dN\\x16\\x15\\x10\\x10\\xe4\\xed\\xeds\\xec\\xf8\\xc1\\xd6\\x12\\x8cF\\xe3\\xd3\\x87\\xdfMHJ\\xbdx\\xb1\\xa0\\xbc\\xfc\\xd1\\xf8\\xc4\\x14\\xeb\\x95\\xe8\\xe8X\\x04A\\xf6\\xed\\xdf\\xf5\\xfc\\xb7\\xc3\\xa5#j\\xe5\\xcc\\x19\\xef^\\xbcX\\xf0\\xd1\\xd2yioN\\xe3\\xf1\\xf8\\xc5\\xc5\\x85&\\xb3\\xe9\\x9f_|\\r\\x00\\x10\\x89\\xbc\\xfd|\\xfd\\x7f\\xde\\xb3\\x8dF\\xa7+\\x14\\xf2\\xd4\\x94t\\xfbE!\\x082\\xef\\x83\\x7f|\\xfa\\xd9G\\xf3\\x16\\xcc\\x9a8a\\xb2\\xd9d:q\\xf2\\xf0\\xe8\\xd1\\x89\\x93\\xdf\\x98jM0\\xe8\\xd58>_\\xd0\\xabW\\x84H\\xd4\\xf28\\x07\\xf8\\x07\\xa6\\xa6\\xa4\\xff\\xb2\\xf7\\xa7e\\x99\\xff\\x13\\xf7\\xdap\\x89D\\xbc\\xff\\xc0\\xcf_f\\x7fk\\xed\\xf1 \\xd2\\x11R\\xfa\\xfb\\x05\\xe4\\xae\\xcd\\xdb\\xb0)g\\xfb\\x8e<\\x04A\\xbaw\\xef\\x95\\x92<\\xc5z\\x0bA\\x90\\xcc\\xcc\\xec\\xd5k>\\xcf\\xfd\\xee_\"\\x91O\\xc2\\xf01\\x0eK\\x8b\\x8fK\\xf82+\\'\\x7f\\xcb\\xc6\\xef\\xd6\\x7f\\x8d\\xa2\\xcc\\xa8\\xc8\\xe8\\xa8\\xa8\\x01\\xadwI$R\\xe2\\xb8I\\x11\\x11\\xfd\\x9e\\xce2\\xef\\x83\\x0fE\"\\xef}\\xfbv\\x95\\x94\\\\\\x10\\x08\\xbc\\xe2\\xe3\\x12\\x84^\\xf0\\xfdM\\x1c\\xb8_\\xd5Wh\\xcf\\xeciL\\x9c\\x1b\\x08\\xfd\\x8b\\xb1\\xc5\\xbeu\\x15\\x93\\xde\\xf7\\xe3x\\xd9;\\xc2\\xc3\\xa3\\xdfj\\xb1\\x05.%4p)\\xa1\\x81K\\t\\r\\\\Jh\\xe0RB\\x03\\x97\\x12\\x1a\\xb8\\x94\\xd0\\xc0\\xa5\\x84\\x06.%4p)\\xa1\\x81K\\t\\r\\\\Jh8\\x90\\x92H\\x02Lw\\x86\\x06\\xc6\\n\\x1c!\\x85\\xe0h\\xef\\x92\\x03)\\x05~\\xd4\\xc7\\xd7\\x950\\x8d\\xc2 Z\\xb5\\xa9\\xe1\\x89\\x86\\xc5sP\\xa5\\x1c\\xed\\xdbA\\x90\\x1e\\x03Yu\\x15j\\xa8\\xb6a\\x8c\\xbarM\\xcf\\x18\\x96\\xc3d\\x8e\\xdb\\xca\\x11i\\xc2?\\xf6\\xd4k\\xd5/\\xff\\xc6e\\x9bH\\xebt\\xa5\\'\\xc4CS\\x84\\x0eS:\\xb5\\x89Y\\xa71\\xfd\\xf8\\xcf\\x8a\\xe8\\x11\\x02&\\x97\\xcc\\x13Q<\\xf5d\"\\x98 \\x08\\x90\\xd6\\xe9\\x94M\\x86\\xdbE\\xf2\\xa9\\x1f\\x07\\x92\\xc8\\x8e\\xeb\\x9c\\x0bG6]:%\\xadz\\xa0\\xb1\\x98\\x81\\\\\\xdc\\xa1\\xe1\\xad\\x8cF#\\x02\\x00\\xb1c\\xcf\\x12\\xe3\\xf9P\\x10\\x00\\x02{\\xd0\\xa3\\x13xN$\\x07\\x1e}\\xfaU+999\\x02\\x81`\\xfa\\xf4\\xe9\\x9dm\\x88\\x03\\xf0q%4p)\\xa1\\x81\\x01)\\xf1SU\\xa1\\x81\\x9f\\xaa\\n\\r<\\xf8 4\\xf0\\xe0\\x83\\xd0\\xc0\\xe3\\xed@\\x03\\x8f\\xb7\\x03\\r\\xbc\\xad\\x84\\x06\\xdeVv90 %\\xde\\xed@\\x03\\xefv\\xba\\x1c\\x18\\x90\\x92D\"\\xe1/\\x8ep0\\x1a\\x8d&\\x13\\x06\\x96C0 %\\x1e|\\x10\\x1ax\\xf0\\xc1.\\x07\\x06\\xa4d0\\x18x\\x9878\\xa8\\xd5j<\\xcc[\\xd7\\x02\\x03R\\xe2\\x81Z\\xa1\\x81\\x07j\\xedr`@J|\\xf1\\x16\\x1a\\xf8\\xe2m\\x97\\x03\\x03R\\xe2k;\\xd0\\xc0\\xd7v\\xa0A\\xa1P\\xf0\\xb6\\x12\\x0ez\\xbd\\x1e\\x9f\\xaf\\xecZ`@J|\\xc5\\x11\\x1a\\xf8\\x8a#4\\xd8l6\\x1ej\\x1d\\x0ex\\xad\\x84\\x06\\x87\\xc3\\xc1\\xdbJ8\\xc8\\xe5r|\\xc5\\x11\\x0eXi+=w\\x0b\\xd4\\x94)SH$\\x92\\xd9l\\x96\\xc9dD\"\\x91\\xcb\\xe5\\x9a\\xcdf\\x8b\\xc5\\xb2s\\xe7\\xce\\xce6\\xcd6\\x1e\\xfd\\xe0\\xdc\\xbd{\\xb7\\xf5\\xff\\xf5\\xf5\\xf5\\x16\\x8b\\x05\\x0f\\xb5\\xde\\x1e\\xdez\\xeb\\xadg:n\\x14Eg\\xcd\\x9a\\xd5y\\x169\\xc0s\\xa5LNN\\x0e\\t\\xf9\\xcb\\xe9\\xbcaaa\\xc3\\x87\\x0f\\xef<\\x8b\\x1c\\xe0\\xb9R\\x02\\x00\\xd2\\xd3\\xd3[\\x17\\xc8\\x18\\x0c\\xc6\\x8c\\x193:\\xdb\"{x\\xb4\\x94\\x93&M\\n\\x0cl9\\xd05<<<!!\\xa1\\xb3-\\xb2\\x87GK\\xd9Z1\\xe9t\\xfa\\xb4i\\xd3:\\xdb\\x16\\x078\\xd5\\x83\\x1b\\rf\\x8d\\xd2\\xec~cl0j\\xf8\\x84=;\\x8f\\xf0x\\xbc\\xd8\\xe8\\xa1\\xcd\\xb2N\\xf0g\\xb3X,L\\x0e\\x89@t\\x1c\\x1b\\xdd\\xc1\\xb8\\xf2v\\xb1\\xe2\\xfa\\x1fri\\x9d\\x9e\\xce\\xc4\\xc0<\\xb6; Q\\t\\xf2F\\xbd_(\\xbd\\xdf0N\\xb7H{\\x11\\x06\\xec\\xd5\\xca\\xe2\\x93Rq\\x8d!>\\xd5\\x87\\xd5\\xe5\\x8f\\x1aRH\\xf5%\\xc7\\xc5\\x1a\\xa5)b0\\xa7\\xad4m\\xd6\\xca\\xa2\\xe3R\\x85\\xc48(\\xa9K\\xc7\\xab\\x7f\\x86\\xb3\\xbb\\xeb\\x82{\\xd3#_\\xb3\\xad\\xa6\\xednG\\xd6\\xa0\\x17W\\xebp\\x1d\\x9fa\\xd8\\x9b>\\x0f\\xaf\\xa9tm\\x9c\\x13d[Jq\\xb5\\xcebq\\xdc\\xd0vA\\x8c\\x06\\x8b\\xb8\\xc6\\xb6\\xb3\\xa7m)\\x95r\\x930\\x10\\x03\\xab\\xf8\\x1d\\x8fO(\\xbd\\xad\\xb3\\x81lKi\\xd0\\x99\\r\\xda\\xce\\x19\\xfdx8Z\\x95\\xc9h\\xb0\\xdd\\xbbx\\xfa\\x10\\x1dC\\xe0RB\\x03\\x97\\x12\\x1a\\xb8\\x94\\xd0\\xc0\\xa5\\x84\\x06.%4p)\\xa1\\x81K\\t\\r\\\\Jh\\xe0RB\\x03\\x97\\x12\\x1a/\\xb3\\x94&\\x93\\xa9\\xac\\xecj\\x87}\\xdd\\xcb,\\xe5\\x9a\\xaf\\xff\\xf7\\x9b\\x9c\\xec\\x0e\\xfb:wIYU\\xf5\\xc4M%?\\x8d\\xfd\\x85)\\xbd\\x1bB\\xd3\\xdb\\x01\\x9a\\xcf\\x90D\"^\\x97\\xbb\\xa6\\xb4\\xb4\\x88D&\\x0f\\x1c\\xf8\\xea\\xb9s\\xbfn\\xda\\xb0-44\\x0c\\x00p\\xe0\\xe0\\x9e\\x9fwo\\x13\\x8b\\x1b||\\xfcF\\x8e\\x18;%m:\\x95J\\xbd\\xff\\xe0\\xee\\x82\\x85sVe\\xaf\\xfd~\\xf3\\xba\\x87\\x0f\\xefy{\\xfb\\xbe\\xf7\\xb7\\x85\\xaf\\xbd6\\xccZZm]\\xcd\\xfa\\xf5\\xdf\\x94^.\\xa2P\\xa8=\\xba\\xf7\\x9a3\\xe7\\x83^=\\xfb\\x00\\x00\\xbe]\\xfb\\xd5\\xd9s\\xbf.\\xf90s\\xfd\\xc6\\x7fWWW\\xfek\\xcd\\xfa\\xc0\\x80\\xe0\\x1f\\xf2\\xd7\\x17\\x15\\x9dW\\xa9\\x94\\x81\\x81\\xc1S\\xdf\\x9a=j\\xe4X\\x00\\xc0\\xaa\\xd5+\\x7f?s\\n\\x00\\x9002\\x06\\x00\\xb0c\\xfbA_\\x1f?\\x00\\xc0\\x95\\xab\\x97\\xfe\\xb39\\xf7\\xe1\\xc3{<\\x1e?\\xba\\x7f\\xec\\xdcw\\xe6\\t\\x04^P\\x14\\x80#\\xa5\\xc9dZ\\xb6|\\xb1T&Y\\xb4(C*\\x15\\xffgsnt\\xff\\x18\\xab\\x8e[\\xfe\\xfb\\xfd\\xee=\\xdbRS\\xd2\\x83\\x83\\xbbUV\\x96\\xef\\xfa\\xf9\\xc7\\xaa\\xea\\'\\xcb2\\xbe\\xb0\\x06;\\xff\\xfc\\x7f3\\x16\\xcc\\xff\\xc8\\xd7\\xc7/\\x7f\\xcb\\xc6\\x7ff/\\xdf\\xb9\\xe30\\x87\\xc3\\x95H\\xc4\\x0b\\x16\\xce\\xf1\\xf7\\x0f\\x9c?o\\t\\x82 \\'O\\x1eY\\xb4x\\xee\\xc6\\xf5[\\xad\\x05\\xaaT\\xca\\x1f\\xf2\\xd7/^\\x94\\xa1\\xd5j\\x06D\\xc7\\xd6\\xd6\\xd5\\xdc\\xb9ss\\xd2\\xc4\\xc9\\x1c6\\xf7\\\\\\xc1oY\\xd9\\x99\\xfe\\xfe\\x81\\xbd{EL\\x9b:\\xa7\\xb1\\xa1\\xbe\\xb6\\xb6\\xfa\\x93\\x8c/\\x00\\x00\\x02\\xbe\\x17\\x00\\xa0\\xf4rq\\xc6\\'\\x0bG\\x8fJLI\\x9e\\xd2\\xac\\x90\\xff\\xb2\\xf7\\xa7\\x0f\\x97\\xbc\\xbfi\\xc36(\\xbb\\xd5\\xe0Hy\\xfb\\xf6\\x8d{\\xf7\\xef|\\xf6\\xe9\\xaa\\xe1\\xc3F\\x01\\x00\\x9e<)?v\\xfc\\xa0^\\xafW(\\xe4\\xdbw\\xe4e.\\xcf\\x1a6t\\xa45\\xa5@ \\xfcw\\xce\\x97\\xf3\\xe7-\\xb1~\\\\0\\xff\\xa3\\x11\\tc\\x00\\x00s\\xe7\\xce\\x7f\\xef\\xfdi\\xd7\\xae_\\x1e\\x1a?b\\xeb\\xb6\\xcd<.\\xff\\xeb5\\x1b\\xac\\x1e\\xaa\\xa3G%N\\x9b\\x91|\\xf8\\xe8\\xbe\\x05\\xf3\\x96X\\xb7\\xf1,\\xf90\\xb3w\\xef\\xbe\\xd6\\x12\\xfc|\\xfd\\xb7\\xe4\\xedF\\x10\\x04\\x000n\\xdc\\xa4\\x947F\\x9d?\\x7f\\xa6w\\xaf\\x88\\x80\\x80 \\x0e\\x87+\\x95I\"#\\xfb\\xb7\\xda\\xb9.w\\xcd\\x84\\xa4\\xd4\\x85\\x0b\\x96Z?\\xc6\\xc4\\x0c\\x9a9{r\\xc9\\xa5\\x0b\\xf1q\\x10\\xfc>\\xe0H\\xd9\\xd0X\\x0f\\x00\\xf0\\xf3\\x0b\\xb0~\\x0c\\x08\\x082\\x9b\\xcd\\x1a\\x8d\\xba\\xb4\\xb4\\xc8h4fegfegZoY[7qc\\x83\\xf5#\\x9d\\xd6\\xe2\\x19\\xed\\xed\\xed\\x0b\\x00\\x10\\x8b\\x1b\\x01\\x00EE\\xe7\\x1b\\x1a\\xeb\\x13\\x93\\xe2[\\xcb7\\x18\\x0c\\x8d\\r\\xf5\\xd6\\xff\\xd3h\\xb4V\\x1d\\xad<xxo\\xcb\\x7f7\\xdd\\xbd{\\xcb\\xfa|H\\xa5\\x12\\x9bF\\xd6\\xd5\\xd5VT<\\xae\\xae\\xae<|d\\xdf_\\x8c\\xff\\xff\\x92_\\x108R\\xfa\\xfb\\x07\\x02\\x00\\xca\\xca\\xaeZ\\x83n\\xdf\\xbe}\\xc3\\xcbK\\xc8\\xe1p%R1\\x00 ;+G$\\xf4~:\\xbd\\x9f_\\xc0\\xe3\\xf2\\x87O_!\\x93\\xc8\\x00\\x00\\xb3\\xd9\\x04\\x00\\x90\\xca$\\x83\\x07\\xc7\\xbf;w\\xc1\\xd3\\tP\\xb4e9\\x9fN\\xff\\xcb\\xde\\xf0\\xcbWJ>\\xceX\\x10\\xdd?f\\xe9G\\x9f\\xa1\\x0c\\xf4\\xd3\\x95\\x1f\\x99-\\xb6\\x97Rd2\\x895X\\xf9\\xd0\\xf8\\x11O_\\xe7\\xf3=\\xa9\\xad\\xec\\xd9\\xa3wl\\xcc\\xa0\\xef\\xff\\xb3\\xb6\\xbe\\xbe\\xb6I.;_x6sy\\x16\\x00\\x80\\xc5b[\\x13\\x04\\x05\\x858*\\xe3OX,\\xb6\\\\\\xde\\xe4d\\x96\\xad[7\\xfb\\xf9\\x05dg\\xe5X[\\x83\\xd6jn\\xe5\\xe9.\\x9e\\xc9d\\x01\\x00t:\\xadK\\xc68\\x0f\\xb4\\xc1\\xd0\\x82\\xf9\\x1f\\x05\\x04\\x04UVUp9\\xbc\\xdcu\\xf9\\xd6F3::\\x16A\\x90}\\xfbw\\xb5&\\xd3h4\\x0e\\x8b\\x1a0\\xe0\\x95\\x1b7\\xae\\xdd\\xbdw\\xdb\\x99\\\\rESxX\\x0f\\xab\\x8ez\\xbd^\\xadQ\\x9b\\xcd-\\xb5\\x92F\\xa3K\\xa5\\x92\\xd6\\x8f\\x01\\x01A\\xde\\xde>\\xc7\\x8e\\x1fl-\\xcdh4\\x1a\\x0c\\xd0B\\x8b\\x10W\\xae\\\\\\xf9\\xfc\\xd5\\xea\\x87\\x1a\\x93\\x11\\xf8\\x848\\xbb\\xc5\\xc3h4\\xce\\x98\\x95\\x9a8.\\xb9\\x7f\\xbf\\x81B\\xa1\\x08\\x00\\xc0as)\\x14\\n\\x9b\\xcdinn>y\\xf2\\xc8\\xbd\\xfb\\xb7u:\\xdd\\xc5\\xa2\\xf3\\xd9\\xabVDG\\xc7\\n\\x04^R\\xa9\\xe4\\xd0\\xe1\\xbd#G\\x8c\\r\\x0c\\x0c\\xb6\\xb6\\x86;~\\xca\\x7f%vp\\x9f>\\x91\\xdd\\xbau?u\\xfa\\xe8\\xa9SGM&SeU\\xc5\\xf6\\xedyg\\xff\\xf8uD\\xc2\\xeb\\xd6f\\xb4\\xa2\\xe2\\xf1\\x94\\xb4?CsT<)?{\\xf64\\x8f\\xc7\\xaf\\xaf\\xaf\\xcbY\\xbb\\xaa\\xba\\xba\\x12\\x01 ))\\x15A\\x10\\xa5\\xb2\\xf9\\xb7\\xdfOH$\\x8d\\xcd\\xcd\\x8a\\x86\\x86\\xba\\xa0\\xa0\\x10oo\\xdf\\xa3G\\x0f\\x14^8g\\xb1\\x80[\\xb7\\xca\\xd6\\xae[m0\\x1a\\xfa\\xf4q\\xc1)\\xbb\\xfa\\xbe\\x1ae\\x13\\xbd\\x83m\\xf4\\xf8p\\x1ep\\x12\\x89\\x143p\\xd0\\xd6m\\x9b[\\x0fOc1Yk\\xbf\\xfd!$\\xa4\\xdb\\xbc\\x0f>\\x14\\x89\\xbc\\xf7\\xed\\xdbURrA \\xf0\\x8a\\x8fK\\x10z9p\\xfa\\xf0\\xf7\\x0b\\xc8]\\x9b\\xb7aS\\xce\\xf6\\x1dy\\x08\\x82t\\xef\\xde+%yJ[\\x89\\xe7\\xcc\\xfa\\xbbT\"^\\x97\\xbb\\x86\\xc5b\\'\\x8dOM\\x9b<\\xed\\x9b\\x9c\\xec+W/\\r\\x88\\x8e\\x1d=:\\xf1\\xee\\xbd[\\'O\\x1d\\xb9p\\xf1\\x8f\\xb1\\xafO\\x182dh|\\\\\\xc2\\x97Y9\\xf9[6~\\xb7\\xfek\\x14eFEFGE\\r\\x80\\xa2@\\x9b>C\\xc5\\'\\xa4z-\\xe87\\x9c\\xef|A&\\x93\\xc9\\xbak\\xdbb\\xb1\\xd4\\xd4V\\xcf\\xfd[z\\xda\\x9b\\xd3f\\xcfz\\x1f\\x96\\xa1\\x1eB\\xd1\\xd1FQ\\x00%*\\xde\\x86\\xdb\\x10\\x9cZ\\xa9\\xd3\\xe9>\\x98?S$\\xf2\\xe9\\x175\\x80L\\xa6\\x94\\x95]\\xd1j\\xb5aa=\\xa0\\x14\\x8e\\x15\\xe0H\\x89 \\xc8\\x98\\xd1\\xe3\\x7f\\xfb\\xedD\\xfe\\x96\\x8d\\x14\\n%44\\xfc\\xb3OW=3\\xe6x\\xe9\\x81#%\\x85B\\x99\\x926\\xfd\\xe9\\xde\\xa0\\x0b\\xf22O\\xb2u0\\xb8\\x94\\xd0\\xc0\\xa5\\x84\\x06.%4p)\\xa1\\x81K\\t\\r\\\\Jh\\xe0RB\\x03\\x97\\x12\\x1a\\xb8\\x94\\xd0\\xb0\\xfd\\xe2H\\xa1!f\\x80\\xef\\xdb\\xb1\\x01\\x1d%\\x92)\\xb6\\x95\\xb1]+Y<rc\\x85\\xe3\\xe9\\xee.H\\xf5C5Gh{\\xc7\\xa7m)E\\x81T\\x04\\xaf\\x94\\xb6 Q\\x10Q\\xa0\\xedsI\\xdb\\xac\\x95\\xfe\\xe1\\xb4s\\xbf\\xd4\\xb9\\xd90\\x8cqz{u\\xc4 v[\\x11\\xec\\xed\\xed\\x07\\xbfyA~\\xff\\xaa\\xb2\\xdf0\\x01\\xcf\\x9bB$u\\xdd\\x0e\\xca\\xa0375\\xea.\\x9d\\x94\\xc4\\x8e\\xe1\\x86F\\xb4\\xb9%\\xdc\\xc1\\xd6\\xfa\\xc77UW\\xcf6\\xd5=\\xd6\\x12I\\x9d\\xf6\\xc0\\x9b-f\\x00\\x10B\\'\\xb58\\x14:A\\xa76\\x05\\xf4`D\\x0f\\xe7\\xfau\\xb3\\xb7n\\xe8\\xec\\xe9W:M\\xa7my\\xdc\\xb0a\\x03\\x9f\\xcf\\x9f2\\xa5\\xcd\\x952\\xf7b\\xb1P\\x19N\\x9d\\xd0\\xe0\\xec,:\\x95\\xdey\\x0f8\\xc1\\x80\\x10\\x8d\\x9di\\x80sx\\xba}\\x18\\x02\\x03R\\xe2G\\xccC\\x03?b\\x1e\\x1axd\\x13h\\xe0\\x91M\\xa0\\x81\\xd7Jh\\xe0\\xb5\\x12\\x1ax\\xa0Vh\\xe0\\x81Z\\xbb\\x1c\\x18\\x90\\x12?b\\x1e\\x1a\\xf8\\x11\\xf3]\\x0e\\x0cH\\xc9d2\\xf1\\x17G8(\\x95J]\\xc7\\xee\\xa1m\\x1f\\x18\\x90\\x12+`@J|\\x88\\x0e\\r|\\x88\\x0e\\r\\x04#K\\xf2\\x18\\x90\\xd2c\\xc3\\xd8<\\x03\\x06\\xa4\\xc4\\n\\x18\\x90\\x12\\x0f\\xd4\\n\\r<Pk\\x97\\x03\\x03R\\xe2\\x8b\\xb7\\xd0\\xc0\\x17o\\xbb\\x1c\\x18\\x90\\x12_q\\x84\\x06\\xbe\\xe2\\xd8\\xe5\\xc0\\x80\\x94d2\\x19\\xaf\\x95p0\\x18\\x0c\\xf8\\x10\\x1d\\x0ex\\xb7\\x03\\r\\xbc\\xdb\\x81\\x06\\x83\\xc1h\\x8d1\\xea\\xc9`@J\\xb5Z\\xad\\xd7\\xdb\\x8ea\\xe5Q`@J\\xbcVB\\x03\\xaf\\x95\\xd0\\xe0p8x\\x0f\\x0e\\x07\\xac\\xf8\\x0c9\\xbb\\x9b\\xac\\xe3\\x99<y\\xf2\\xa3G\\x8f\\x08\\x04\\x82\\xd9l\\xb6\\xfe\\x8b HHH\\xc8/\\xbf\\xfc\\xd2\\xd9\\xa6\\xd9\\xc6s\\x1f\\xf0\\xf1\\xe3\\xc7\\x93\\xc9d\\x00\\x00\\x81@\\xb0\\xfeK\\xa3\\xd1\\xa6O\\xf7\\xdcc\\xdf<W\\xca\\xb4\\xb4\\xb4\\xd68\\xebV\\x02\\x03\\x03\\x93\\x93\\x93;\\xcf\"\\x07x\\xae\\x94(\\x8aN\\x980\\xa1\\xf5=\\x87B\\xa1\\xa4\\xa5\\xa5u\\xb6Q\\xf6\\xf0\\\\)\\xad\\xcdek\\xc5\\x0c\\n\\nJMM\\xedl\\x8b\\xec\\xe1\\xd1RZ+&\\x89DBQ\\xb4\\xd361;\\x8d\\xe7\\xf6\\xe0V\\x94J\\xe5\\xcc\\x993\\xa9T\\xea\\x8e\\x1d;:\\xdb\\x16\\x07\\xc0\\x94RR\\xa3{pMU[\\xa1\\xd34\\x9b4*#\\x8dATH!\\x9c:n2\\x99\\x10\\x00\\x080&\\x87\\xb8B\\x8aFi\\xa2\\xa3D\\x94K\\xf2\\r\\xa1\\x86\\xf7C\\xb9Bh\\xaf\\xa4p\\xa4,:.\\xbdY\\xa8\\x00\\x08\\x82z1h,*\\x89B$Q\\x89$\\x8a\\'\\xce\\x8c\\x19u&\\xa3\\xded\\xd4\\x1b\\xd5M:\\x95DM\"#\\x91q\\x9c\\x81#\\xb8/^\\xf2\\x8bJy\\xe9tS\\xd11\\xb1Ow\\x1eK\\x88R\\x18\\xb6\\x0f\\xe0\\xf1dt*\\xbd\\xbcN%\\xabR\\x0cN\\xf2\\x8a\\x8ac\\xbfHQ\\xed\\x97R\\xa7\\x05{s\\xab\\x01\\x89\\xec\\xdd\\x9dO `\\xc3\\x05\\xb2-\\x8czS\\xfd})\\x89hN\\x9d\\xe7Gn\\xef\\x13\\xdfN)e\\x8d\\xfa\\xed\\xd9O\\xc2_\\xf3\\xa7\\xa1\\x18\\x98\\xfer\\x12\\x95TSU\\xd60cE\\x10\\x1dm\\xcf+\\x7f{\\xa4\\x94\\x8b\\r\\xfb7\\xd5\\x05\\x0f\\xf0k\\xc7\\xf7y8F\\xbd\\xa9\\xe6f\\xfd\\x9b\\x8b|\\xdb\\xa1\\xa6\\xcb\\xe3J\\x9d\\xc6\\xf4\\xd3\\x9a\\xca\\x97RG\\x00\\x00\\x89B\\x0c\\xe8\\xe7\\x9b\\xffiy;\\xf2\\xba,\\xe5\\xb6\\xec\\'a\\x83\\xfc\\xdb\\xf1MX\\x81@@Bb\\xfd\\xb6\\x7fU\\xe9rF\\x97R\\xff\\xf6s\\xa3 \\x84O\\xa6a`\\xf6\\xf0E`p\\xa8t.z\\xf1\\x98\\xed\\xc0\\\\m\\xe1\\x82\\x94r\\xb1\\xe1q\\x99\\x8a\\xeb\\xd7\\xe6\\xa1d/\\x13\\xfc \\xce\\x95\\xdf\\x9a\\x0c:\\x17\\xce\\xfcrA\\xca\\xb3{\\xc5^a.\\x84\\x8d\\xc1:\\xa2p\\xfe\\xb9}b\\xe7\\xd3;+e\\xb3\\xd4 \\xad7p\\xbc\\xd1\\xf6\\x1a\\xe6F\\x8a.\\x1dX\\xb2\\xe2U\\x85\\xc2\\x85\\x9f\\xed\\x0c\\x82 \\xf6\\xe3\\x9b*\\x83\\xc1\\xd9\\x8a\\xe9\\xac\\x94\\x8fn\\xaa\\xa8L\\x0c\\xb8\\xde\\xc2\\x85\\xce\\xa6V\\xdcR;\\x99\\xd8Y)\\xef_Q1\\xbd0\\xb0\\xec\\x07\\x17\\x06\\x9fq\\xff\\xaa\\xca\\xc9\\xc4N\\xf5\\xc5\\x16\\x8bE\\xa71\\x0b\\xc2\\xddr\\xea\\x82^\\xaf=vz\\xc3\\x95\\xeb\\'\\x0c\\x06\\x9d\\xd0+xx\\xdc\\xdb\\xfd#G\\x03\\x00\\xce\\x15\\xfet\\xb5\\xec\\xf4\\xd0!o\\x1d;\\xbd\\xa1\\xb9Y\\xec\\xef\\xd7\\xeb\\xcdI\\x9f\\x88\\x84-q\\x03\\xabk\\xee\\xee?\\xfaMe\\xf5-6\\xcbK(\\x08r\\x87a\\x00\\x00\\xa6\\x80.+\\x87*\\xa5VeV6\\x19\\xdc\\xb1\\xd7\\xd0l6\\xe7m\\xff\\x87LV;b\\xe8L&\\x93\\xff\\xf0Q\\xe9\\xb6\\x9f3uz\\xcd\\xab\\x03\\'\\x02\\x00\\x9eT\\xdd8{~\\xfb\\x9b\\x93\\x96\\x99L\\xc6=\\x07\\xbf\\xdc\\xb9\\xf7\\x8b\\x85\\xef\\xe5\\x01\\x00\\xea\\x1b\\xcb7\\xe4\\xfd\\x1dep\\x13G\\x7f@$\\x90N\\x9d\\xf9\\x01\\xbaaVH\\x14b\\x83\\xd3\\xc7G;%\\xa5Ja\\xa4\\xd0\\xdd2\\x96,\\xbb\\xf5\\xfb\\xe3\\xf2\\xab\\xcb\\xfe\\xb1\\x9f\\xc3\\x16\\x02\\x00\\x06D\\xbd\\xae\\xd3\\xab\\x0b.\\xec\\xb2J\\t\\x00\\x98\\xfd\\xf6\\xbf\\xd8,\\x01\\x00 nP\\xda\\xa1\\xe3\\xdf\\xaa\\xd4r\\x94\\xc19rb\\x1d\\x82\\x10\\x16\\xbc\\xf7\\x03\\x13\\xe5\\x01\\x00\\x10\\x02a\\xef\\xa1\\xd5\\xee0\\x0fA\\x10\\n\\x8d\\xa0n62X\\x8e\\x7f\\xbeS\\x02\\xa9\\x15&&\\xdf-}\\xce\\xed\\xbb\\xe7Mfc\\xf67)\\xadW\\xccf\\x13\\x9d\\xf6\\xe7\\xd0\\x95JiiUx\\\\_\\x00\\x80B\\xd1H&Q\\xef>\\xb888\\xf6\\r\\xab\\x8e\\x00\\x00\"\\xc1\\x8d\\xaf\\x0c\\\\o\\xbaJ\\x01OJ*\\x9d\\xa0\\x96\\xb9\\xc5k\\xa7Y)a\\xb3\\xbc\\xde\\x9f\\xfd\\xdd\\xd3\\x17\\t\\xb6\\xa4!\\x11[\\x82\\xe2*\\x9a\\xc5&\\x93\\x91\\xcf\\xf3u\\x87=\\xcf#\\x17ki\\x10\\x0f\\xa8e\\xb0\\x89z\\xad[6\\xb73\\xe8l\\xa5J\\xc6\\xe3\\xfa\\x92\\xc9\\xce\\xd6zkeT*e\\xee\\xb0\\xe7y\\xf4\\x1a\\x13\\x83\\xed\\x94JN\\r\\x86P\\x0e\\xc9\\xa5W(\\xe7\\t\\x0f\\x8b5\\x9bM\\x85\\xc5\\x7f\\xfa\\xae\\xe8\\xf4\\x0e\\x9ay\\x1a\\r\\xf5\\x12\\x04^\\xbb\\xf9\\xab\\xd1\\x08-\\\\m[\\x18\\r&2\\x85@$:\\xd5\\xdf:\\xa77\\x01a\\xf1\\xc9\\x9af\\x1d\\x9d\\x05\\xb9\\xc5\\x1c\\xd8o\\\\\\xd1\\xa5\\xfd\\x87O\\xac\\x935\\xd5\\xfa\\xfb\\xf6\\xac\\xa9\\xbb_v\\xeb\\xcc\\xd2\\x85\\xbb(\\x14{\\x9b\\x1a\\xc7$\\xcc\\xdd\\xb1\\xe7\\xb3u\\xdf\\xcf}e@\\x12B \\xfcqa\\x97\\x9d\\xc4/\\x82F\\xae\\xf3\\xf2w\\xf6\\';\\xdb`\\x87E\\xa1\\xd5\\x15j\\xe8R\\x92H\\xe4\\xbf\\xcd\\\\{\\xf4\\xe4wW\\xae\\x9f\\xbcP\\xb2O(\\x08\\x1a\\xf2J*\\x91\\xe8\\xc0\\xaa\\x01\\xfd\\xc6j4\\xcdg\\xceo?|r\\x9d\\xb7\\xb0[p`\\xdfFq\\x05\\\\\\xc3\\xac\\xa8$\\xea>1\\xce\\xbe+;;\\x8b^\\xffD{\\xec\\xbf\\x8d!1/\\xe7\\x8co[\\xdc?\\xff$\\xfd\\x1f\\x01,\\x9eS\\xcb\\x7f\\xce\\xd6J\\xef \\x1a\\x1d%\\xe8Tzj\\xdb\\x8b9\\x99Y#m^\\x0f\\x0e\\x8c\\xac\\xa8,{\\xfe:J\\xe7|\\xf2\\xe1^\\'\\rp\\x86\\xef6\\xbfW[\\xff\\xe0\\xf9\\xeb\\\\\\xb6w\\x93\\xa2\\xdeU\\x03T2\\x8d(\\x90\\xe6\\xa4\\x8e\\xae\\xad\\xed<\\xbe\\xa9:\\x7f\\xb8) \\xca\\xa7\\xad\\x04RY\\x8d\\xed\\x1b\\x16\\x04 6\\xbe\\x05A\\x08<n\\x9b\\xa5\\xb5\\x03\\xb9\\xa2\\xd1d\\xb2\\xd1\\x17\\x19\\x8d\\x06\\x12\\xc9\\x86\"\\xf6\\rx\\\\R=~\\x96H\\x14\\xe4\\xecVt\\x17\\x06\\xb7\\xa1\\x11h\\xd1q\\x99J\\xa6Ey\\xb6K\\xe7\\xf3:\\xf9\\xf1\\xb7\\xbe2AA^\\xaf\\x12\\xf8\\x90\\x9d\\xd7\\xd1\\xe5\\x05\\x89q3\\xbd\\xa5\\xe5R\\xd7\\r\\xc3\\x1e\\x92r\\xe9\\xb8\\x99\\xde.eqMJ\\x8e\\x17y\\xc8\\x04^\\xf5\\r\\x1b\\xed\\xce\\xcbD\\xf9\\xa5\\xea\\xc4\\xd9\\xded\\xaak\\xe2\\xb8\\xbc\\xe2\\x18\\x16\\xc9\\xec\\x1f\\xcf\\xac\\xb9\\xd5\\xe0jF\\xacPUV\\x1f\\x9f\\xcc\\xf7\\tvyF\\xb1=\\xfe\\x95\\x11\\x83\\xd8}_eT\\x97\\xbd\\x841\\xa2*Jk^\\x1b\\xcf\\t\\x8bl\\xcfR`\\xfb}\\x86\\x1e\\xddP\\x16\\x1en\\xe2\\x06p\\x99\\x02\\x0c\\x1c\\xc4\\xeb\\x10E\\x83\\xaa\\xf1\\x81$q\\x8e\\xafoh;O\\x8fy!O6\\xb9D\\x7frk\\xa3Fc\\x11\\x86\\xf1\\xa1\\xbf\\x08u\\x18*\\x99\\xb6\\xf1\\xa1\\x94\\'$\\x8e\\x9b\\xe5M\\xa1\\xb5\\xdf\\x91\\x11\\x82\\x7fe\\xe5=u\\xc9\\xa9\\xa6\\xa6\\x06\\x03C\\xc0`\\x8bP\\x1a\\x8b\\xe2\\xf9\\x8emf\\xb3E\\xd3\\xa4U4\\xa8UR\\xb5\\xc0\\x9728\\x91\\xef\\x13\\xf2\\xa2G\\x19A\\xf3\\xfa\\x95\\xd6\\xe9\\x1f^W>\\xb8\\xae\\x96\\xd6j\\x89$\\x02\\x85NDy\\x14\\xbd\\xda\\xb3N\\x17\\xa01)\\xcdb\\x8d^k\"\\x10\\x11\\x8e\\x17\\xb9{43,\\x12\\xe5x\\xc1q\\x0bu\\x8b/\\xbaVeR)\\x8c:\\xb5\\xd9\\xd3\\xfc\\xdc\\x11\\x02BC\\t(\\x9bH\\xa5\\xc3\\xf7H\\xf6t\\xb7~\\x0c\\xe1\\xd1\\x9bM\\xb0\\x05.%4p)\\xa1\\x81K\\t\\r\\\\Jh\\xe0RB\\xe3\\xff\\x00\\x8c\\x10\\x13e\\x0f\\xb6\\xdaw\\x00\\x00\\x00\\x00IEND\\xaeB`\\x82'"
      ]
     },
     "execution_count": 42,
     "metadata": {},
     "output_type": "execute_result"
    }
   ],
   "source": [
    "app.get_graph().draw_mermaid_png(output_file_path='./graph.png')"
   ]
  },
  {
   "cell_type": "code",
   "execution_count": 43,
   "metadata": {},
   "outputs": [
    {
     "name": "stdout",
     "output_type": "stream",
     "text": [
      "---RETRIEVE---\n",
      "[Document(id='6d7d3a49-66a3-416f-b9bd-013496fb7306', metadata={'author': '', 'creationDate': \"D:20201113144933+09'00'\", 'creator': 'AH CSS Formatter V6.6 MR8 for Windows (x64) : 6.6.10.40521 (2019-09-24T09:58+09)', 'encryption': '', 'format': 'PDF 1.6', 'keywords': '', 'modDate': \"D:20201113145327+09'00'\", 'page': 591.0, 'producer': 'Antenna House PDF Output Library 6.6.1502 (Windows (x64))', 'source': 'Camera/EOS_M50_Mark_II_Advanced_User_Guide_K.pdf', 'subject': '', 'title': '', 'total_pages': 704.0, 'trapped': ''}, page_content='## 설정\\n\\n이 장에서는 설정 ([ ]) 탭의 메뉴 설정에 대해 설명합니다.\\n\\n페이지 제목 우측의 은 해당 기능이 크리에이티브 존 모드 (< >/< >/< >/\\n\\n< >)에서만 사용 가능함을 나타냅니다.\\n\\n - 탭 메뉴: 설정\\n\\n- 폴더 선택하기\\n\\n- 파일 번호\\n\\n- 포맷하기\\n\\n- 자동 회전\\n\\n- 동영상에 방향 정보 추가하기\\n\\n- 날짜/시간/지역\\n\\n- 언어\\n\\n- 비디오 형식\\n\\n- 표시음\\n\\n- 절전\\n\\n- 에코 모드\\n\\n- 표시 설정\\n\\n- 화면 밝기\\n\\n- 뷰파인더 밝기\\n\\n- 메뉴 화면 확대\\n\\n- HDMI 해상도\\n\\n- 터치 제어\\n\\n- 센서 클리닝\\n\\n- 카메라 설정 초기화\\n\\n - 사용자 정의 기능 (C.Fn)\\n\\n- 저작권 정보\\n\\n- 기타 정보\\n\\n591\\n\\n\\n-----\\n\\n'), Document(id='d6a4af0e-057c-44e9-9bab-381265ef9b37', metadata={'author': '', 'creationDate': \"D:20240602144931+09'00'\", 'creator': 'AH CSS Formatter V6.6 MR8 for Windows (x64) : 6.6.10.40521 (2019-09-24T09:58+09)', 'encryption': '', 'format': 'PDF 1.6', 'keywords': '', 'modDate': \"D:20240902034728+09'00'\", 'page': 664.0, 'producer': 'Antenna House PDF Output Library 6.6.1502 (Windows (x64))', 'source': 'Camera/EOSR50_240926.pdf', 'subject': '', 'title': '', 'total_pages': 800.0, 'trapped': ''}, page_content='#### 설정 3\\n\\n(1) 화면/뷰파인더 표시\\n\\n(2) 화면 밝기\\n\\n(3) 뷰파인더 밝기\\n\\n(4) 뷰파인더 색조 미세조정\\n\\n(5) 메뉴 화면 확대\\n\\n(6) HDMI 해상도\\n\\n#### 설정 4\\n\\n(1) 터치 제어\\n\\n(2) USB 연결 앱 선택\\n\\n\\n![](parsing_images/test/EOSR50_240926.pdf-663-0.png)\\n\\n664\\n\\n\\n![](parsing_images/test/EOSR50_240926.pdf-663-0.png)\\n\\n-----\\n\\n'), Document(id='e69dffb8-5636-462e-aad1-095c08c0d8e6', metadata={'author': '', 'creationDate': \"D:20240331201133+09'00'\", 'creator': 'AH CSS Formatter V6.6 MR8 for Windows (x64) : 6.6.10.40521 (2019-09-24T09:58+09)', 'encryption': '', 'format': 'PDF 1.6', 'keywords': '', 'modDate': \"D:20240924050921+09'00'\", 'page': 181.0, 'producer': 'Antenna House PDF Output Library 6.6.1502 (Windows (x64))', 'source': 'Camera/EOSR6MarkII_240926.pdf', 'subject': '', 'title': '', 'total_pages': 1059.0, 'trapped': ''}, page_content='#### 옵션 화면에서 ISO 감도 설정하기\\n\\n# 1. ISO 감도 옵션 화면을 실행합니다.\\n\\n화면 우측 하단의 ISO 감도를 탭하십시오.\\n\\n# 2. 옵션을 선택합니다.\\n\\n<         - 다이얼을 돌리거나 등록된 설정 값을 선택하십시오.\\n\\n[AUTO] 이외의 옵션을 지정하고 [등록]을 선택하면 자주 사용하는 ISO 감\\n도 설정 값을 등록할 수 있습니다.\\n\\n**참고**\\n\\n[ : **ISO 감도 설정]에서 [ISO 감도] 설정 시 [자동]으로 지정하려면 <**    - 버튼\\n을 누르십시오.\\n\\n181\\n\\n\\n![](parsing_images/test/EOSR6MarkII_240926.pdf-180-0.png)\\n\\n![](parsing_images/test/EOSR6MarkII_240926.pdf-180-1.png)\\n\\n-----\\n\\n'), Document(id='2d506b2a-ce6f-4594-8c30-25a0f0c21708', metadata={'author': '', 'creationDate': \"D:20240602144931+09'00'\", 'creator': 'AH CSS Formatter V6.6 MR8 for Windows (x64) : 6.6.10.40521 (2019-09-24T09:58+09)', 'encryption': '', 'format': 'PDF 1.6', 'keywords': '', 'modDate': \"D:20240902034728+09'00'\", 'page': 662.0, 'producer': 'Antenna House PDF Output Library 6.6.1502 (Windows (x64))', 'source': 'Camera/EOSR50_240926.pdf', 'subject': '', 'title': '', 'total_pages': 800.0, 'trapped': ''}, page_content='## 설정\\n\\n이 장에서는 설정 [ ] 탭의 메뉴 설정에 관해 설명합니다.\\n\\n제목 우측의 은 해당 기능이 크리에이티브 존 모드 (<P>, <Tv>, <Av>, <M>)에서만 사용 가능함\\n을 나타냅니다.\\n\\n - 탭 메뉴: 설정\\n\\n- 폴더 설정\\n\\n- 파일 번호\\n\\n- 카드 포맷\\n\\n- 자동 회전\\n\\n- 동영상에 방향 정보 추가하기\\n\\n- 날짜/시간/지역\\n\\n- 언어\\n\\n- 비디오 형식\\n\\n- 촬영 모드 안내\\n\\n- 기능 안내\\n\\n- 표시음\\n\\n- 음량\\n\\n- 절전\\n\\n- 스크린 및 뷰파인더 표시\\n\\n- 스크린 밝기\\n\\n- 뷰파인더 밝기\\n\\n- 뷰파인더 색조 미세 조정\\n\\n- 메뉴 화면 확대\\n\\n- HDMI 해상도\\n\\n- 터치 제어\\n\\n - USB 연결을 위한 앱 선택\\n\\n- 카메라 설정 초기화\\n\\n - 커스텀 촬영 모드 (C 모드)\\n\\n- 배터리 정보\\n\\n- 저작권 정보\\n\\n- 기타 정보\\n\\n662\\n\\n\\n-----\\n\\n'), Document(id='2d4d89fe-1e4f-4d51-a585-17aad1060708', metadata={'author': '', 'creationDate': \"D:20240602144931+09'00'\", 'creator': 'AH CSS Formatter V6.6 MR8 for Windows (x64) : 6.6.10.40521 (2019-09-24T09:58+09)', 'encryption': '', 'format': 'PDF 1.6', 'keywords': '', 'modDate': \"D:20240902034728+09'00'\", 'page': 236.0, 'producer': 'Antenna House PDF Output Library 6.6.1502 (Windows (x64))', 'source': 'Camera/EOSR50_240926.pdf', 'subject': '', 'title': '', 'total_pages': 800.0, 'trapped': ''}, page_content='# 3. 옵션을 선택합니다.\\n\\n옵션을 선택한 다음 <    - 버튼을 누르십시오.\\n\\n설정과 효과에 관한 자세한 내용은 설정과 효과를 참조하십시오.\\n\\n# 4. 효과 레벨을 설정합니다.\\n\\n효과 레벨을 조정한 다음 <    - 버튼을 누르십시오.\\n\\n<     - 버튼을 누르면 조정한 설정값이 저장되고 픽쳐 스타일 선택 화면\\n으로 돌아갑니다.\\n\\n초기 설정에서 변경된 설정값은 청색으로 표시됩니다.\\n\\n236\\n\\n\\n![](parsing_images/test/EOSR50_240926.pdf-235-0.png)\\n\\n![](parsing_images/test/EOSR50_240926.pdf-235-1.png)\\n\\n-----\\n\\n')]\n",
      "---GENERATE---\n",
      "{'question': 'iso 설정 방법에 대해 알려줘', 'context': [Document(id='6d7d3a49-66a3-416f-b9bd-013496fb7306', metadata={'author': '', 'creationDate': \"D:20201113144933+09'00'\", 'creator': 'AH CSS Formatter V6.6 MR8 for Windows (x64) : 6.6.10.40521 (2019-09-24T09:58+09)', 'encryption': '', 'format': 'PDF 1.6', 'keywords': '', 'modDate': \"D:20201113145327+09'00'\", 'page': 591.0, 'producer': 'Antenna House PDF Output Library 6.6.1502 (Windows (x64))', 'source': 'Camera/EOS_M50_Mark_II_Advanced_User_Guide_K.pdf', 'subject': '', 'title': '', 'total_pages': 704.0, 'trapped': ''}, page_content='## 설정\\n\\n이 장에서는 설정 ([ ]) 탭의 메뉴 설정에 대해 설명합니다.\\n\\n페이지 제목 우측의 은 해당 기능이 크리에이티브 존 모드 (< >/< >/< >/\\n\\n< >)에서만 사용 가능함을 나타냅니다.\\n\\n - 탭 메뉴: 설정\\n\\n- 폴더 선택하기\\n\\n- 파일 번호\\n\\n- 포맷하기\\n\\n- 자동 회전\\n\\n- 동영상에 방향 정보 추가하기\\n\\n- 날짜/시간/지역\\n\\n- 언어\\n\\n- 비디오 형식\\n\\n- 표시음\\n\\n- 절전\\n\\n- 에코 모드\\n\\n- 표시 설정\\n\\n- 화면 밝기\\n\\n- 뷰파인더 밝기\\n\\n- 메뉴 화면 확대\\n\\n- HDMI 해상도\\n\\n- 터치 제어\\n\\n- 센서 클리닝\\n\\n- 카메라 설정 초기화\\n\\n - 사용자 정의 기능 (C.Fn)\\n\\n- 저작권 정보\\n\\n- 기타 정보\\n\\n591\\n\\n\\n-----\\n\\n'), Document(id='d6a4af0e-057c-44e9-9bab-381265ef9b37', metadata={'author': '', 'creationDate': \"D:20240602144931+09'00'\", 'creator': 'AH CSS Formatter V6.6 MR8 for Windows (x64) : 6.6.10.40521 (2019-09-24T09:58+09)', 'encryption': '', 'format': 'PDF 1.6', 'keywords': '', 'modDate': \"D:20240902034728+09'00'\", 'page': 664.0, 'producer': 'Antenna House PDF Output Library 6.6.1502 (Windows (x64))', 'source': 'Camera/EOSR50_240926.pdf', 'subject': '', 'title': '', 'total_pages': 800.0, 'trapped': ''}, page_content='#### 설정 3\\n\\n(1) 화면/뷰파인더 표시\\n\\n(2) 화면 밝기\\n\\n(3) 뷰파인더 밝기\\n\\n(4) 뷰파인더 색조 미세조정\\n\\n(5) 메뉴 화면 확대\\n\\n(6) HDMI 해상도\\n\\n#### 설정 4\\n\\n(1) 터치 제어\\n\\n(2) USB 연결 앱 선택\\n\\n\\n![](parsing_images/test/EOSR50_240926.pdf-663-0.png)\\n\\n664\\n\\n\\n![](parsing_images/test/EOSR50_240926.pdf-663-0.png)\\n\\n-----\\n\\n'), Document(id='e69dffb8-5636-462e-aad1-095c08c0d8e6', metadata={'author': '', 'creationDate': \"D:20240331201133+09'00'\", 'creator': 'AH CSS Formatter V6.6 MR8 for Windows (x64) : 6.6.10.40521 (2019-09-24T09:58+09)', 'encryption': '', 'format': 'PDF 1.6', 'keywords': '', 'modDate': \"D:20240924050921+09'00'\", 'page': 181.0, 'producer': 'Antenna House PDF Output Library 6.6.1502 (Windows (x64))', 'source': 'Camera/EOSR6MarkII_240926.pdf', 'subject': '', 'title': '', 'total_pages': 1059.0, 'trapped': ''}, page_content='#### 옵션 화면에서 ISO 감도 설정하기\\n\\n# 1. ISO 감도 옵션 화면을 실행합니다.\\n\\n화면 우측 하단의 ISO 감도를 탭하십시오.\\n\\n# 2. 옵션을 선택합니다.\\n\\n<         - 다이얼을 돌리거나 등록된 설정 값을 선택하십시오.\\n\\n[AUTO] 이외의 옵션을 지정하고 [등록]을 선택하면 자주 사용하는 ISO 감\\n도 설정 값을 등록할 수 있습니다.\\n\\n**참고**\\n\\n[ : **ISO 감도 설정]에서 [ISO 감도] 설정 시 [자동]으로 지정하려면 <**    - 버튼\\n을 누르십시오.\\n\\n181\\n\\n\\n![](parsing_images/test/EOSR6MarkII_240926.pdf-180-0.png)\\n\\n![](parsing_images/test/EOSR6MarkII_240926.pdf-180-1.png)\\n\\n-----\\n\\n'), Document(id='2d506b2a-ce6f-4594-8c30-25a0f0c21708', metadata={'author': '', 'creationDate': \"D:20240602144931+09'00'\", 'creator': 'AH CSS Formatter V6.6 MR8 for Windows (x64) : 6.6.10.40521 (2019-09-24T09:58+09)', 'encryption': '', 'format': 'PDF 1.6', 'keywords': '', 'modDate': \"D:20240902034728+09'00'\", 'page': 662.0, 'producer': 'Antenna House PDF Output Library 6.6.1502 (Windows (x64))', 'source': 'Camera/EOSR50_240926.pdf', 'subject': '', 'title': '', 'total_pages': 800.0, 'trapped': ''}, page_content='## 설정\\n\\n이 장에서는 설정 [ ] 탭의 메뉴 설정에 관해 설명합니다.\\n\\n제목 우측의 은 해당 기능이 크리에이티브 존 모드 (<P>, <Tv>, <Av>, <M>)에서만 사용 가능함\\n을 나타냅니다.\\n\\n - 탭 메뉴: 설정\\n\\n- 폴더 설정\\n\\n- 파일 번호\\n\\n- 카드 포맷\\n\\n- 자동 회전\\n\\n- 동영상에 방향 정보 추가하기\\n\\n- 날짜/시간/지역\\n\\n- 언어\\n\\n- 비디오 형식\\n\\n- 촬영 모드 안내\\n\\n- 기능 안내\\n\\n- 표시음\\n\\n- 음량\\n\\n- 절전\\n\\n- 스크린 및 뷰파인더 표시\\n\\n- 스크린 밝기\\n\\n- 뷰파인더 밝기\\n\\n- 뷰파인더 색조 미세 조정\\n\\n- 메뉴 화면 확대\\n\\n- HDMI 해상도\\n\\n- 터치 제어\\n\\n - USB 연결을 위한 앱 선택\\n\\n- 카메라 설정 초기화\\n\\n - 커스텀 촬영 모드 (C 모드)\\n\\n- 배터리 정보\\n\\n- 저작권 정보\\n\\n- 기타 정보\\n\\n662\\n\\n\\n-----\\n\\n'), Document(id='2d4d89fe-1e4f-4d51-a585-17aad1060708', metadata={'author': '', 'creationDate': \"D:20240602144931+09'00'\", 'creator': 'AH CSS Formatter V6.6 MR8 for Windows (x64) : 6.6.10.40521 (2019-09-24T09:58+09)', 'encryption': '', 'format': 'PDF 1.6', 'keywords': '', 'modDate': \"D:20240902034728+09'00'\", 'page': 236.0, 'producer': 'Antenna House PDF Output Library 6.6.1502 (Windows (x64))', 'source': 'Camera/EOSR50_240926.pdf', 'subject': '', 'title': '', 'total_pages': 800.0, 'trapped': ''}, page_content='# 3. 옵션을 선택합니다.\\n\\n옵션을 선택한 다음 <    - 버튼을 누르십시오.\\n\\n설정과 효과에 관한 자세한 내용은 설정과 효과를 참조하십시오.\\n\\n# 4. 효과 레벨을 설정합니다.\\n\\n효과 레벨을 조정한 다음 <    - 버튼을 누르십시오.\\n\\n<     - 버튼을 누르면 조정한 설정값이 저장되고 픽쳐 스타일 선택 화면\\n으로 돌아갑니다.\\n\\n초기 설정에서 변경된 설정값은 청색으로 표시됩니다.\\n\\n236\\n\\n\\n![](parsing_images/test/EOSR50_240926.pdf-235-0.png)\\n\\n![](parsing_images/test/EOSR50_240926.pdf-235-1.png)\\n\\n-----\\n\\n')], 'answer': 'ISO 감도 설정 방법은 화면 우측 하단의 ISO 감도를 탭하여 옵션을 선택하고 설정 값을 조정한 후 저장하는 것입니다. ISO 감도 설정 시 자주 사용하는 값을 등록하려면 다이얼을 돌리거나 등록된 설정 값을 선택하고 저장합니다. 설정값을 조정한 후 효과 레벨을 설정하고 저장하여 변경된 설정값을 확인할 수 있습니다.', 'message': [HumanMessage(content='iso 설정 방법에 대해 알려줘', additional_kwargs={}, response_metadata={}, id='ad2245be-3ed5-4457-9afb-b75c5360ad64'), AIMessage(content='ISO 감도 설정 방법은 화면 우측 하단의 ISO 감도를 탭하여 옵션을 선택하고 설정 값을 조정한 후 저장하는 것입니다. ISO 감도 설정 시 자주 사용하는 값을 등록하려면 다이얼을 돌리거나 등록된 설정 값을 선택하고 저장합니다. 설정값을 조정한 후 효과 레벨을 설정하고 저장하여 변경된 설정값을 확인할 수 있습니다.', additional_kwargs={}, response_metadata={}, id='868520e0-9f26-472c-8e6e-570108d99353')]}\n"
     ]
    }
   ],
   "source": [
    "print(app.invoke(input={\"question\": \"iso 설정 방법에 대해 알려줘\"}))"
   ]
  },
  {
   "cell_type": "code",
   "execution_count": 44,
   "metadata": {},
   "outputs": [
    {
     "name": "stdout",
     "output_type": "stream",
     "text": [
      "---RETRIEVE---\n",
      "[Document(id='6d7d3a49-66a3-416f-b9bd-013496fb7306', metadata={'author': '', 'creationDate': \"D:20201113144933+09'00'\", 'creator': 'AH CSS Formatter V6.6 MR8 for Windows (x64) : 6.6.10.40521 (2019-09-24T09:58+09)', 'encryption': '', 'format': 'PDF 1.6', 'keywords': '', 'modDate': \"D:20201113145327+09'00'\", 'page': 591.0, 'producer': 'Antenna House PDF Output Library 6.6.1502 (Windows (x64))', 'source': 'Camera/EOS_M50_Mark_II_Advanced_User_Guide_K.pdf', 'subject': '', 'title': '', 'total_pages': 704.0, 'trapped': ''}, page_content='## 설정\\n\\n이 장에서는 설정 ([ ]) 탭의 메뉴 설정에 대해 설명합니다.\\n\\n페이지 제목 우측의 은 해당 기능이 크리에이티브 존 모드 (< >/< >/< >/\\n\\n< >)에서만 사용 가능함을 나타냅니다.\\n\\n - 탭 메뉴: 설정\\n\\n- 폴더 선택하기\\n\\n- 파일 번호\\n\\n- 포맷하기\\n\\n- 자동 회전\\n\\n- 동영상에 방향 정보 추가하기\\n\\n- 날짜/시간/지역\\n\\n- 언어\\n\\n- 비디오 형식\\n\\n- 표시음\\n\\n- 절전\\n\\n- 에코 모드\\n\\n- 표시 설정\\n\\n- 화면 밝기\\n\\n- 뷰파인더 밝기\\n\\n- 메뉴 화면 확대\\n\\n- HDMI 해상도\\n\\n- 터치 제어\\n\\n- 센서 클리닝\\n\\n- 카메라 설정 초기화\\n\\n - 사용자 정의 기능 (C.Fn)\\n\\n- 저작권 정보\\n\\n- 기타 정보\\n\\n591\\n\\n\\n-----\\n\\n'), Document(id='d6a4af0e-057c-44e9-9bab-381265ef9b37', metadata={'author': '', 'creationDate': \"D:20240602144931+09'00'\", 'creator': 'AH CSS Formatter V6.6 MR8 for Windows (x64) : 6.6.10.40521 (2019-09-24T09:58+09)', 'encryption': '', 'format': 'PDF 1.6', 'keywords': '', 'modDate': \"D:20240902034728+09'00'\", 'page': 664.0, 'producer': 'Antenna House PDF Output Library 6.6.1502 (Windows (x64))', 'source': 'Camera/EOSR50_240926.pdf', 'subject': '', 'title': '', 'total_pages': 800.0, 'trapped': ''}, page_content='#### 설정 3\\n\\n(1) 화면/뷰파인더 표시\\n\\n(2) 화면 밝기\\n\\n(3) 뷰파인더 밝기\\n\\n(4) 뷰파인더 색조 미세조정\\n\\n(5) 메뉴 화면 확대\\n\\n(6) HDMI 해상도\\n\\n#### 설정 4\\n\\n(1) 터치 제어\\n\\n(2) USB 연결 앱 선택\\n\\n\\n![](parsing_images/test/EOSR50_240926.pdf-663-0.png)\\n\\n664\\n\\n\\n![](parsing_images/test/EOSR50_240926.pdf-663-0.png)\\n\\n-----\\n\\n'), Document(id='e69dffb8-5636-462e-aad1-095c08c0d8e6', metadata={'author': '', 'creationDate': \"D:20240331201133+09'00'\", 'creator': 'AH CSS Formatter V6.6 MR8 for Windows (x64) : 6.6.10.40521 (2019-09-24T09:58+09)', 'encryption': '', 'format': 'PDF 1.6', 'keywords': '', 'modDate': \"D:20240924050921+09'00'\", 'page': 181.0, 'producer': 'Antenna House PDF Output Library 6.6.1502 (Windows (x64))', 'source': 'Camera/EOSR6MarkII_240926.pdf', 'subject': '', 'title': '', 'total_pages': 1059.0, 'trapped': ''}, page_content='#### 옵션 화면에서 ISO 감도 설정하기\\n\\n# 1. ISO 감도 옵션 화면을 실행합니다.\\n\\n화면 우측 하단의 ISO 감도를 탭하십시오.\\n\\n# 2. 옵션을 선택합니다.\\n\\n<         - 다이얼을 돌리거나 등록된 설정 값을 선택하십시오.\\n\\n[AUTO] 이외의 옵션을 지정하고 [등록]을 선택하면 자주 사용하는 ISO 감\\n도 설정 값을 등록할 수 있습니다.\\n\\n**참고**\\n\\n[ : **ISO 감도 설정]에서 [ISO 감도] 설정 시 [자동]으로 지정하려면 <**    - 버튼\\n을 누르십시오.\\n\\n181\\n\\n\\n![](parsing_images/test/EOSR6MarkII_240926.pdf-180-0.png)\\n\\n![](parsing_images/test/EOSR6MarkII_240926.pdf-180-1.png)\\n\\n-----\\n\\n'), Document(id='2d506b2a-ce6f-4594-8c30-25a0f0c21708', metadata={'author': '', 'creationDate': \"D:20240602144931+09'00'\", 'creator': 'AH CSS Formatter V6.6 MR8 for Windows (x64) : 6.6.10.40521 (2019-09-24T09:58+09)', 'encryption': '', 'format': 'PDF 1.6', 'keywords': '', 'modDate': \"D:20240902034728+09'00'\", 'page': 662.0, 'producer': 'Antenna House PDF Output Library 6.6.1502 (Windows (x64))', 'source': 'Camera/EOSR50_240926.pdf', 'subject': '', 'title': '', 'total_pages': 800.0, 'trapped': ''}, page_content='## 설정\\n\\n이 장에서는 설정 [ ] 탭의 메뉴 설정에 관해 설명합니다.\\n\\n제목 우측의 은 해당 기능이 크리에이티브 존 모드 (<P>, <Tv>, <Av>, <M>)에서만 사용 가능함\\n을 나타냅니다.\\n\\n - 탭 메뉴: 설정\\n\\n- 폴더 설정\\n\\n- 파일 번호\\n\\n- 카드 포맷\\n\\n- 자동 회전\\n\\n- 동영상에 방향 정보 추가하기\\n\\n- 날짜/시간/지역\\n\\n- 언어\\n\\n- 비디오 형식\\n\\n- 촬영 모드 안내\\n\\n- 기능 안내\\n\\n- 표시음\\n\\n- 음량\\n\\n- 절전\\n\\n- 스크린 및 뷰파인더 표시\\n\\n- 스크린 밝기\\n\\n- 뷰파인더 밝기\\n\\n- 뷰파인더 색조 미세 조정\\n\\n- 메뉴 화면 확대\\n\\n- HDMI 해상도\\n\\n- 터치 제어\\n\\n - USB 연결을 위한 앱 선택\\n\\n- 카메라 설정 초기화\\n\\n - 커스텀 촬영 모드 (C 모드)\\n\\n- 배터리 정보\\n\\n- 저작권 정보\\n\\n- 기타 정보\\n\\n662\\n\\n\\n-----\\n\\n'), Document(id='2d4d89fe-1e4f-4d51-a585-17aad1060708', metadata={'author': '', 'creationDate': \"D:20240602144931+09'00'\", 'creator': 'AH CSS Formatter V6.6 MR8 for Windows (x64) : 6.6.10.40521 (2019-09-24T09:58+09)', 'encryption': '', 'format': 'PDF 1.6', 'keywords': '', 'modDate': \"D:20240902034728+09'00'\", 'page': 236.0, 'producer': 'Antenna House PDF Output Library 6.6.1502 (Windows (x64))', 'source': 'Camera/EOSR50_240926.pdf', 'subject': '', 'title': '', 'total_pages': 800.0, 'trapped': ''}, page_content='# 3. 옵션을 선택합니다.\\n\\n옵션을 선택한 다음 <    - 버튼을 누르십시오.\\n\\n설정과 효과에 관한 자세한 내용은 설정과 효과를 참조하십시오.\\n\\n# 4. 효과 레벨을 설정합니다.\\n\\n효과 레벨을 조정한 다음 <    - 버튼을 누르십시오.\\n\\n<     - 버튼을 누르면 조정한 설정값이 저장되고 픽쳐 스타일 선택 화면\\n으로 돌아갑니다.\\n\\n초기 설정에서 변경된 설정값은 청색으로 표시됩니다.\\n\\n236\\n\\n\\n![](parsing_images/test/EOSR50_240926.pdf-235-0.png)\\n\\n![](parsing_images/test/EOSR50_240926.pdf-235-1.png)\\n\\n-----\\n\\n')]\n",
      "---GENERATE---\n",
      "ISO 감도 설정 방법은 화면 우측 하단의 ISO 감도를 탭하여 옵션을 선택하고 설정 값을 조정한 후 저장하는 것입니다. ISO 감도 설정 시 자주 사용하는 값을 등록하려면 다이얼을 돌리거나 등록된 설정 값을 선택하고 저장하면 됩니다. 설정값을 조정한 후 저장하면 픽쳐 스타일 선택 화면으로 돌아갑니다."
     ]
    }
   ],
   "source": [
    "inputs = {\"question\": \"iso 설정 방법에 대해 알려줘\"}\n",
    "\n",
    "for chunk_msg, metadata in app.stream(inputs, stream_mode=\"messages\"):\n",
    "        print(chunk_msg.content, end=\"\", flush=True)"
   ]
  },
  {
   "cell_type": "markdown",
   "metadata": {},
   "source": [
    "### 추후 참고"
   ]
  },
  {
   "cell_type": "code",
   "execution_count": null,
   "metadata": {},
   "outputs": [],
   "source": [
    "# 추후 사용\n",
    "# retrieval_grader.py\n",
    "# 문서가 실제로 질몬과 관련이 있는지 판단하는 내용\n",
    "\n",
    "from langchain_core.prompts import ChatPromptTemplate\n",
    "from langchain_openai import ChatOpenAI\n",
    "from pydantic import BaseModel, Field\n",
    "\n",
    "llm = ChatOpenAI(temperature=0)\n",
    "\n",
    "\n",
    "class GradeDocuments(BaseModel):\n",
    "    \"\"\"Binary score for relevance score on retrieved documents.\"\"\"\n",
    "\n",
    "    binary_score: str = Field(\n",
    "        description=\"Documents are relevant to the question, 'yes' or 'no'\"\n",
    "    )\n",
    "\n",
    "\n",
    "structured_llm_grader = llm.with_structured_output(GradeDocuments)\n",
    "\n",
    "system = \"\"\"You are a grade accessing relevance of a retrieved document to a user question. \\n\n",
    "If the document contains keywors(s) or semantic meaning related to the question, grade it as relevant. \\n\n",
    "Give a binary score 'yes' or 'no' score to indicate whether the document is relevant to the question.\"\"\"\n",
    "\n",
    "grade_prompt = ChatPromptTemplate.from_messages(\n",
    "    [\n",
    "        (\"system\", system),\n",
    "        (\"human\", \"Retrieved document: \\n\\n {document} \\n\\n User question: {question}\"),\n",
    "    ]\n",
    ")\n",
    "\n",
    "retrieval_grader = grade_prompt | structured_llm_grader\n"
   ]
  },
  {
   "cell_type": "code",
   "execution_count": null,
   "metadata": {},
   "outputs": [],
   "source": [
    "## grade_documents.py\n",
    "# 모든 문서를평가하는 노드\n",
    "\n",
    "from typing import Any, Dict\n",
    "\n",
    "from graphs.chains.retrieval_grader import retrieval_grader\n",
    "from graphs.state import GraphState\n",
    "\n",
    "\n",
    "def grade_documents(state: GraphState) -> Dict[str, Any]:\n",
    "    \"\"\"\n",
    "    Determines whether the retrieved documents are relevant to the question\n",
    "    If any document is not relevant, we will set a flag to run web search\n",
    "\n",
    "    Args:\n",
    "        state (dict): The current graph state\n",
    "\n",
    "    Returns:\n",
    "        state (dict): Filtered out irrelevant documents and updated web_search state\n",
    "    \"\"\"\n",
    "\n",
    "    print(\"---CHECK DOCUMENT RELEVANCE TO QUESTION---\")\n",
    "    question = state[\"question\"]\n",
    "    documents = state[\"documents\"]\n",
    "\n",
    "    filtered_docs = []\n",
    "    web_search = False\n",
    "    for d in documents:\n",
    "        score = retrieval_grader.invoke(\n",
    "            {\"question\": question, \"document\": d.page_content}\n",
    "        )\n",
    "        grade = score.binary_score\n",
    "        if grade.lower() == \"yes\":\n",
    "            print(\"---GRADE: DOCUMENT RELEVANT---\")\n",
    "            filtered_docs.append(d)\n",
    "        else:\n",
    "            print(\"---GRADE: DOCUMENT NOT RELEVANT---\")\n",
    "\n",
    "    if len(filtered_docs) == 0:\n",
    "        web_search = True\n",
    "\n",
    "    return {\"documents\": filtered_docs, \"question\": question, \"web_search\": web_search}\n"
   ]
  }
 ],
 "metadata": {
  "kernelspec": {
   "display_name": ".venv",
   "language": "python",
   "name": "python3"
  },
  "language_info": {
   "codemirror_mode": {
    "name": "ipython",
    "version": 3
   },
   "file_extension": ".py",
   "mimetype": "text/x-python",
   "name": "python",
   "nbconvert_exporter": "python",
   "pygments_lexer": "ipython3",
   "version": "3.10.14"
  }
 },
 "nbformat": 4,
 "nbformat_minor": 2
}
