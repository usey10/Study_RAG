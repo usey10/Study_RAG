{
 "cells": [
  {
   "cell_type": "code",
   "execution_count": null,
   "metadata": {},
   "outputs": [
    {
     "data": {
      "text/plain": [
       "'/Users/yoeun/Library/Mobile Documents/com~apple~CloudDocs/github/FINAL Project/Study_RAG/data/test/x-t5-page-106.pdf'"
      ]
     },
     "metadata": {},
     "output_type": "display_data"
    }
   ],
   "source": [
    "import os\n",
    "import glob\n",
    "\n",
    "os.path.abspath(\"\")\n",
    "data_dir = os.path.abspath(\"../../data/test\")\n",
    "\n",
    "file = glob.glob(f'{data_dir}/*.pdf')\n",
    "\n",
    "file[4]"
   ]
  },
  {
   "cell_type": "code",
   "execution_count": null,
   "metadata": {},
   "outputs": [],
   "source": [
    "# pip install requests\n",
    " \n",
    "import requests\n",
    " \n",
    "api_key = os.environ[\"UPSTAGE_API_KEY\"]  # ex: up_xxxYYYzzzAAAbbbCCC\n",
    "filename = file[4]        # ex: ./image.png\n",
    "\n",
    "url = \"https://api.upstage.ai/v1/document-ai/document-parse\"\n",
    "headers = {\"Authorization\": f\"Bearer {api_key}\"}\n",
    " \n",
    "files = {\"document\": open(filename, \"rb\")}\n",
    "data = {\"output_formats\":\"['html','markdown']\"}\n",
    "response_test = requests.post(url, headers=headers, files=files, data=data)"
   ]
  },
  {
   "cell_type": "code",
   "execution_count": null,
   "metadata": {},
   "outputs": [
    {
     "name": "stdout",
     "output_type": "stream",
     "text": [
      "Saved: /Users/yoeun/Library/Mobile Documents/com~apple~CloudDocs/github/FINAL Project/Study_RAG/parsing/pdf_image/test2/page_1.png\n"
     ]
    }
   ],
   "source": [
    "import fitz  # PyMuPDF\n",
    "import os\n",
    "\n",
    "# PDF 파일 경로와 출력 폴더 설정\n",
    "pdf_path = file[4]  # PDF 파일 경로\n",
    "output_folder = os.path.abspath(\"../../parsing/pdf_image/test2\")  # 저장할 폴더 경로\n",
    "\n",
    "# 출력 폴더가 없으면 생성\n",
    "if not os.path.exists(output_folder):\n",
    "    os.makedirs(output_folder)\n",
    "\n",
    "# PDF 열기\n",
    "pdf_document = fitz.open(pdf_path)\n",
    "\n",
    "# 해상도 설정 (DPI)\n",
    "dpi = 300  # 원하는 DPI 값 (300, 600 등)\n",
    "\n",
    "# 각 페이지를 이미지로 저장\n",
    "for page_number in range(len(pdf_document)):\n",
    "    page = pdf_document.load_page(page_number)  # 페이지 로드\n",
    "    pix = page.get_pixmap(dpi=dpi)  # 페이지를 이미지로 렌더링\n",
    "    output_file = os.path.join(output_folder, f\"page_{page_number + 1}.png\")\n",
    "    pix.save(output_file)  # 이미지 저장\n",
    "    print(f\"Saved: {output_file}\")\n",
    "\n",
    "pdf_document.close()"
   ]
  },
  {
   "cell_type": "code",
   "execution_count": null,
   "metadata": {},
   "outputs": [
    {
     "name": "stdout",
     "output_type": "stream",
     "text": [
      "{'elements': [{'category': 'figure', 'content': {'html': '<br><figure id=\\'4\\'><img alt=\"\" data-coord=\"top-left:(420,266); bottom-right:(618,399)\" /></figure>', 'markdown': '![image](/image/placeholder)\\n', 'text': ''}, 'coordinates': [{'x': 0.6079, 'y': 0.2736}, {'x': 0.8953, 'y': 0.2736}, {'x': 0.8953, 'y': 0.4101}, {'x': 0.6079, 'y': 0.4101}], 'id': 4, 'page': 1}, {'category': 'figure', 'content': {'html': '<br><figure id=\\'6\\'><img alt=\"\" data-coord=\"top-left:(420,410); bottom-right:(617,552)\" /></figure>', 'markdown': '![image](/image/placeholder)\\n', 'text': ''}, 'coordinates': [{'x': 0.6084, 'y': 0.4214}, {'x': 0.8941, 'y': 0.4214}, {'x': 0.8941, 'y': 0.5663}, {'x': 0.6084, 'y': 0.5663}], 'id': 6, 'page': 1}, {'category': 'figure', 'content': {'html': '<br><figure id=\\'9\\'><img alt=\"\" data-coord=\"top-left:(426,559); bottom-right:(619,723)\" /></figure>', 'markdown': '![image](/image/placeholder)\\n', 'text': ''}, 'coordinates': [{'x': 0.617, 'y': 0.5738}, {'x': 0.897, 'y': 0.5738}, {'x': 0.897, 'y': 0.7416}, {'x': 0.617, 'y': 0.7416}], 'id': 9, 'page': 1}, {'category': 'figure', 'content': {'html': '<br><figure id=\\'11\\'><img alt=\"\" data-coord=\"top-left:(423,744); bottom-right:(615,874)\" /></figure>', 'markdown': '![image](/image/placeholder)\\n', 'text': ''}, 'coordinates': [{'x': 0.6126, 'y': 0.764}, {'x': 0.8902, 'y': 0.764}, {'x': 0.8902, 'y': 0.8967}, {'x': 0.6126, 'y': 0.8967}], 'id': 11, 'page': 1}]}\n"
     ]
    }
   ],
   "source": [
    "# 원본 데이터\n",
    "import json\n",
    "\n",
    "# 12번째 요소부터 시작하여 필터링\n",
    "filtered_elements = [\n",
    "    element for element in response_test.json()['elements']\n",
    "    if element.get('category') == 'figure'\n",
    "]\n",
    "\n",
    "# 새로운 딕셔너리에 저장\n",
    "filtered_response = {'elements': filtered_elements}\n",
    "\n",
    "print(filtered_response)"
   ]
  },
  {
   "cell_type": "code",
   "execution_count": null,
   "metadata": {},
   "outputs": [
    {
     "data": {
      "text/plain": [
       "[{'category': 'heading1',\n",
       "  'content': {'html': \"<h1 id='0' style='font-size:14px'>Mode M: Manual Exposure</h1>\",\n",
       "   'markdown': '# Mode M: Manual Exposure',\n",
       "   'text': ''},\n",
       "  'coordinates': [{'x': 0.0822, 'y': 0.0723},\n",
       "   {'x': 0.4443, 'y': 0.0723},\n",
       "   {'x': 0.4443, 'y': 0.0964},\n",
       "   {'x': 0.0822, 'y': 0.0964}],\n",
       "  'id': 0,\n",
       "  'page': 1},\n",
       " {'category': 'paragraph',\n",
       "  'content': {'html': \"<br><p id='1' data-category='paragraph' style='font-size:14px'>In manual mode, the user controls both shutter speed and aperture.<br>Shots can be deliberately overexposed (brighter) or underexposed<br>(darker), opening the door for a variety of individual creative ex-<br>pression. The amount the picture would be under- or over-exposed<br>at current settings is shown by the exposure indicator; adjust shut-<br>ter speed and aperture until the desired exposure is reached.</p>\",\n",
       "   'markdown': 'In manual mode, the user controls both shutter speed and aperture.\\nShots can be deliberately overexposed (brighter) or underexposed\\n(darker), opening the door for a variety of individual creative ex-\\npression. The amount the picture would be under- or over-exposed\\nat current settings is shown by the exposure indicator; adjust shut-\\nter speed and aperture until the desired exposure is reached.',\n",
       "   'text': ''},\n",
       "  'coordinates': [{'x': 0.0811, 'y': 0.1055},\n",
       "   {'x': 0.8946, 'y': 0.1055},\n",
       "   {'x': 0.8946, 'y': 0.2583},\n",
       "   {'x': 0.0811, 'y': 0.2583}],\n",
       "  'id': 1,\n",
       "  'page': 1},\n",
       " {'category': 'paragraph',\n",
       "  'content': {'html': \"<p id='2' data-category='paragraph' style='font-size:14px'>1 Rotate the STILL/MOVIE mode dial to<br>STILL.</p>\",\n",
       "   'markdown': '1 Rotate the STILL/MOVIE mode dial to\\nSTILL.',\n",
       "   'text': ''},\n",
       "  'coordinates': [{'x': 0.0946, 'y': 0.2787},\n",
       "   {'x': 0.6017, 'y': 0.2787},\n",
       "   {'x': 0.6017, 'y': 0.3274},\n",
       "   {'x': 0.0946, 'y': 0.3274}],\n",
       "  'id': 2,\n",
       "  'page': 1},\n",
       " {'category': 'paragraph',\n",
       "  'content': {'html': \"<p id='3' data-category='paragraph' style='font-size:14px'>2 Slide the lens aperture mode switch<br>to Z.</p>\",\n",
       "   'markdown': '2 Slide the lens aperture mode switch\\nto Z.',\n",
       "   'text': ''},\n",
       "  'coordinates': [{'x': 0.0962, 'y': 0.4204},\n",
       "   {'x': 0.6098, 'y': 0.4204},\n",
       "   {'x': 0.6098, 'y': 0.4707},\n",
       "   {'x': 0.0962, 'y': 0.4707}],\n",
       "  'id': 3,\n",
       "  'page': 1},\n",
       " {'category': 'figure',\n",
       "  'content': {'html': '<br><figure id=\\'4\\'><img alt=\"\" data-coord=\"top-left:(420,266); bottom-right:(618,399)\" /></figure>',\n",
       "   'markdown': '![image](/image/placeholder)\\n',\n",
       "   'text': ''},\n",
       "  'coordinates': [{'x': 0.6079, 'y': 0.2736},\n",
       "   {'x': 0.8953, 'y': 0.2736},\n",
       "   {'x': 0.8953, 'y': 0.4101},\n",
       "   {'x': 0.6079, 'y': 0.4101}],\n",
       "  'id': 4,\n",
       "  'page': 1},\n",
       " {'category': 'paragraph',\n",
       "  'content': {'html': \"<p id='5' data-category='paragraph' style='font-size:16px'>5</p>\",\n",
       "   'markdown': '5',\n",
       "   'text': ''},\n",
       "  'coordinates': [{'x': 0.0282, 'y': 0.4768},\n",
       "   {'x': 0.0417, 'y': 0.4768},\n",
       "   {'x': 0.0417, 'y': 0.5019},\n",
       "   {'x': 0.0282, 'y': 0.5019}],\n",
       "  'id': 5,\n",
       "  'page': 1},\n",
       " {'category': 'figure',\n",
       "  'content': {'html': '<br><figure id=\\'6\\'><img alt=\"\" data-coord=\"top-left:(420,410); bottom-right:(617,552)\" /></figure>',\n",
       "   'markdown': '![image](/image/placeholder)\\n',\n",
       "   'text': ''},\n",
       "  'coordinates': [{'x': 0.6084, 'y': 0.4214},\n",
       "   {'x': 0.8941, 'y': 0.4214},\n",
       "   {'x': 0.8941, 'y': 0.5663},\n",
       "   {'x': 0.6084, 'y': 0.5663}],\n",
       "  'id': 6,\n",
       "  'page': 1},\n",
       " {'category': 'paragraph',\n",
       "  'content': {'html': \"<br><p id='7' data-category='paragraph' style='font-size:14px'>3 Rotate the shutter speed dial to se-<br>lect a shutter speed other than A.</p>\",\n",
       "   'markdown': '3 Rotate the shutter speed dial to se-\\nlect a shutter speed other than A.',\n",
       "   'text': ''},\n",
       "  'coordinates': [{'x': 0.0983, 'y': 0.5746},\n",
       "   {'x': 0.6008, 'y': 0.5746},\n",
       "   {'x': 0.6008, 'y': 0.6255},\n",
       "   {'x': 0.0983, 'y': 0.6255}],\n",
       "  'id': 7,\n",
       "  'page': 1},\n",
       " {'category': 'header',\n",
       "  'content': {'html': \"<br><header id='8' style='font-size:20px'>Taking<br>Photographs</header>\",\n",
       "   'markdown': 'Taking\\nPhotographs',\n",
       "   'text': ''},\n",
       "  'coordinates': [{'x': 0.0143, 'y': 0.5067},\n",
       "   {'x': 0.0438, 'y': 0.5067},\n",
       "   {'x': 0.0438, 'y': 0.666},\n",
       "   {'x': 0.0143, 'y': 0.666}],\n",
       "  'id': 8,\n",
       "  'page': 1},\n",
       " {'category': 'figure',\n",
       "  'content': {'html': '<br><figure id=\\'9\\'><img alt=\"\" data-coord=\"top-left:(426,559); bottom-right:(619,723)\" /></figure>',\n",
       "   'markdown': '![image](/image/placeholder)\\n',\n",
       "   'text': ''},\n",
       "  'coordinates': [{'x': 0.617, 'y': 0.5738},\n",
       "   {'x': 0.897, 'y': 0.5738},\n",
       "   {'x': 0.897, 'y': 0.7416},\n",
       "   {'x': 0.617, 'y': 0.7416}],\n",
       "  'id': 9,\n",
       "  'page': 1},\n",
       " {'category': 'heading1',\n",
       "  'content': {'html': \"<h1 id='10' style='font-size:14px'>M will appear in the display.</h1>\",\n",
       "   'markdown': '# M will appear in the display.',\n",
       "   'text': ''},\n",
       "  'coordinates': [{'x': 0.13, 'y': 0.7653},\n",
       "   {'x': 0.4857, 'y': 0.7653},\n",
       "   {'x': 0.4857, 'y': 0.7913},\n",
       "   {'x': 0.13, 'y': 0.7913}],\n",
       "  'id': 10,\n",
       "  'page': 1},\n",
       " {'category': 'figure',\n",
       "  'content': {'html': '<br><figure id=\\'11\\'><img alt=\"\" data-coord=\"top-left:(423,744); bottom-right:(615,874)\" /></figure>',\n",
       "   'markdown': '![image](/image/placeholder)\\n',\n",
       "   'text': ''},\n",
       "  'coordinates': [{'x': 0.6126, 'y': 0.764},\n",
       "   {'x': 0.8902, 'y': 0.764},\n",
       "   {'x': 0.8902, 'y': 0.8967},\n",
       "   {'x': 0.6126, 'y': 0.8967}],\n",
       "  'id': 11,\n",
       "  'page': 1},\n",
       " {'category': 'footer',\n",
       "  'content': {'html': \"<footer id='12' style='font-size:16px'>80</footer>\",\n",
       "   'markdown': '80',\n",
       "   'text': ''},\n",
       "  'coordinates': [{'x': 0.0816, 'y': 0.956},\n",
       "   {'x': 0.1229, 'y': 0.956},\n",
       "   {'x': 0.1229, 'y': 0.9795},\n",
       "   {'x': 0.0816, 'y': 0.9795}],\n",
       "  'id': 12,\n",
       "  'page': 1}]"
      ]
     },
     "metadata": {},
     "output_type": "display_data"
    }
   ],
   "source": [
    "response_test.json()['elements']"
   ]
  },
  {
   "cell_type": "code",
   "execution_count": null,
   "metadata": {},
   "outputs": [
    {
     "name": "stdout",
     "output_type": "stream",
     "text": [
      "[{'x': 0.6079, 'y': 0.2736}, {'x': 0.8953, 'y': 0.2736}, {'x': 0.8953, 'y': 0.4101}, {'x': 0.6079, 'y': 0.4101}]\n",
      "[{'x': 0.6084, 'y': 0.4214}, {'x': 0.8941, 'y': 0.4214}, {'x': 0.8941, 'y': 0.5663}, {'x': 0.6084, 'y': 0.5663}]\n",
      "[{'x': 0.617, 'y': 0.5738}, {'x': 0.897, 'y': 0.5738}, {'x': 0.897, 'y': 0.7416}, {'x': 0.617, 'y': 0.7416}]\n",
      "[{'x': 0.6126, 'y': 0.764}, {'x': 0.8902, 'y': 0.764}, {'x': 0.8902, 'y': 0.8967}, {'x': 0.6126, 'y': 0.8967}]\n"
     ]
    }
   ],
   "source": [
    "for coordinate in filtered_response['elements']:\n",
    "    print(coordinate['coordinates'])"
   ]
  },
  {
   "cell_type": "code",
   "execution_count": null,
   "metadata": {},
   "outputs": [
    {
     "name": "stdout",
     "output_type": "stream",
     "text": [
      "Cropped image saved to: /Users/yoeun/Library/Mobile Documents/com~apple~CloudDocs/github/FINAL Project/Study_RAG/parsing/cropped_page_1_0.png\n",
      "Cropped image saved to: /Users/yoeun/Library/Mobile Documents/com~apple~CloudDocs/github/FINAL Project/Study_RAG/parsing/cropped_page_1_1.png\n",
      "Cropped image saved to: /Users/yoeun/Library/Mobile Documents/com~apple~CloudDocs/github/FINAL Project/Study_RAG/parsing/cropped_page_1_2.png\n",
      "Cropped image saved to: /Users/yoeun/Library/Mobile Documents/com~apple~CloudDocs/github/FINAL Project/Study_RAG/parsing/cropped_page_1_3.png\n"
     ]
    }
   ],
   "source": [
    "from PIL import Image\n",
    "\n",
    "# JSON 데이터에서 추출된 좌표 (예시)\n",
    "# coordinates = filtered_response['elements'][6]['coordinates']\n",
    "\n",
    "\n",
    "# 이미지 파일 경로\n",
    "image_path = '/Users/yoeun/Library/Mobile Documents/com~apple~CloudDocs/github/FINAL Project/Study_RAG/parsing/pdf_image/test2/page_1.png'\n",
    "\n",
    "# 이미지 열기\n",
    "for idx,coordinate in enumerate(filtered_response['elements']):\n",
    "    coordinates = coordinate['coordinates']\n",
    "\n",
    "    try:\n",
    "        with Image.open(image_path) as img:\n",
    "            width, height = img.size\n",
    "\n",
    "            # 바운딩 박스 좌표 계산\n",
    "            x_min = int(min(coord['x'] * width for coord in coordinates))\n",
    "            y_min = int(min(coord['y'] * height for coord in coordinates))\n",
    "            x_max = int(max(coord['x'] * width for coord in coordinates))\n",
    "            y_max = int(max(coord['y'] * height for coord in coordinates))\n",
    "\n",
    "            # 바운딩 박스 크롭\n",
    "            cropped_image = img.crop((x_min, y_min, x_max, y_max))\n",
    "\n",
    "            # 결과 이미지 저장\n",
    "            output_path = f'/Users/yoeun/Library/Mobile Documents/com~apple~CloudDocs/github/FINAL Project/Study_RAG/parsing/cropped_page_1_{idx}.png'\n",
    "            cropped_image.save(output_path)\n",
    "            print(f\"Cropped image saved to: {output_path}\")\n",
    "\n",
    "    except FileNotFoundError:\n",
    "        print(f\"File not found: {image_path}\")"
   ]
  }
 ],
 "metadata": {
  "language_info": {
   "name": "python"
  }
 },
 "nbformat": 4,
 "nbformat_minor": 2
}
